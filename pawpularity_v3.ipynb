{
  "cells": [
    {
      "cell_type": "markdown",
      "metadata": {
        "id": "view-in-github",
        "colab_type": "text"
      },
      "source": [
        "<a href=\"https://colab.research.google.com/github/ryujimorita/dev_connector/blob/master/pawpularity_v3.ipynb\" target=\"_parent\"><img src=\"https://colab.research.google.com/assets/colab-badge.svg\" alt=\"Open In Colab\"/></a>"
      ]
    },
    {
      "cell_type": "markdown",
      "metadata": {
        "id": "y0e2QuDkRcVz"
      },
      "source": [
        "# Set up RAPIDS"
      ],
      "id": "y0e2QuDkRcVz"
    },
    {
      "cell_type": "code",
      "execution_count": 1,
      "metadata": {
        "colab": {
          "base_uri": "https://localhost:8080/"
        },
        "id": "UJPibi3Xcczw",
        "outputId": "16074e40-216d-4826-8948-6c7d0e0db356"
      },
      "outputs": [
        {
          "output_type": "stream",
          "name": "stdout",
          "text": [
            "{\n",
            "  \"ip\": \"34.82.43.82\",\n",
            "  \"hostname\": \"82.43.82.34.bc.googleusercontent.com\",\n",
            "  \"city\": \"The Dalles\",\n",
            "  \"region\": \"Oregon\",\n",
            "  \"country\": \"US\",\n",
            "  \"loc\": \"45.5946,-121.1787\",\n",
            "  \"org\": \"AS396982 Google LLC\",\n",
            "  \"postal\": \"97058\",\n",
            "  \"timezone\": \"America/Los_Angeles\",\n",
            "  \"readme\": \"https://ipinfo.io/missingauth\"\n",
            "}"
          ]
        }
      ],
      "source": [
        "!curl ipinfo.io"
      ],
      "id": "UJPibi3Xcczw"
    },
    {
      "cell_type": "code",
      "execution_count": 2,
      "metadata": {
        "colab": {
          "base_uri": "https://localhost:8080/"
        },
        "id": "rdFt4XHIH1jQ",
        "outputId": "a2b65cc5-f280-4575-f8dc-3e04384bc437"
      },
      "outputs": [
        {
          "output_type": "stream",
          "name": "stdout",
          "text": [
            "Python 3.7.12\n",
            "*******************************************************************************\n",
            "No LSB modules are available.\n",
            "Distributor ID:\tUbuntu\n",
            "Description:\tUbuntu 18.04.5 LTS\n",
            "Release:\t18.04\n",
            "Codename:\tbionic\n",
            "*******************************************************************************\n",
            "nvcc: NVIDIA (R) Cuda compiler driver\n",
            "Copyright (c) 2005-2020 NVIDIA Corporation\n",
            "Built on Mon_Oct_12_20:09:46_PDT_2020\n",
            "Cuda compilation tools, release 11.1, V11.1.105\n",
            "Build cuda_11.1.TC455_06.29190527_0\n",
            "/usr/local/cuda/bin/nvcc\n",
            "*******************************************************************************\n",
            "Fri Dec 31 09:34:09 2021       \n",
            "+-----------------------------------------------------------------------------+\n",
            "| NVIDIA-SMI 495.44       Driver Version: 460.32.03    CUDA Version: 11.2     |\n",
            "|-------------------------------+----------------------+----------------------+\n",
            "| GPU  Name        Persistence-M| Bus-Id        Disp.A | Volatile Uncorr. ECC |\n",
            "| Fan  Temp  Perf  Pwr:Usage/Cap|         Memory-Usage | GPU-Util  Compute M. |\n",
            "|                               |                      |               MIG M. |\n",
            "|===============================+======================+======================|\n",
            "|   0  Tesla P100-PCIE...  Off  | 00000000:00:04.0 Off |                    0 |\n",
            "| N/A   65C    P0    49W / 250W |      0MiB / 16280MiB |      0%      Default |\n",
            "|                               |                      |                  N/A |\n",
            "+-------------------------------+----------------------+----------------------+\n",
            "                                                                               \n",
            "+-----------------------------------------------------------------------------+\n",
            "| Processes:                                                                  |\n",
            "|  GPU   GI   CI        PID   Type   Process name                  GPU Memory |\n",
            "|        ID   ID                                                   Usage      |\n",
            "|=============================================================================|\n",
            "|  No running processes found                                                 |\n",
            "+-----------------------------------------------------------------------------+\n"
          ]
        }
      ],
      "source": [
        "# Check Python version\n",
        "!python --version\n",
        "print('*'*79)\n",
        "# Check Ubuntu Version\n",
        "!lsb_release -a\n",
        "print('*'*79)\n",
        "# Check CUDA/cuDNN Version\n",
        "!nvcc -V && which nvcc\n",
        "print('*'*79)\n",
        "# check GPU type (cuml works with certain kind of GPU)\n",
        "!nvidia-smi"
      ],
      "id": "rdFt4XHIH1jQ"
    },
    {
      "cell_type": "code",
      "execution_count": 3,
      "metadata": {
        "colab": {
          "base_uri": "https://localhost:8080/"
        },
        "id": "Qrxzsfo8H_CE",
        "outputId": "6543132d-40ba-4fbc-e5c6-ca2728c331a1"
      },
      "outputs": [
        {
          "output_type": "stream",
          "name": "stdout",
          "text": [
            "Woo! You got the right kind of GPU!\n"
          ]
        }
      ],
      "source": [
        "# check if the runtime is compatible with RAPIDS\n",
        "import pynvml\n",
        "\n",
        "pynvml.nvmlInit()\n",
        "handle = pynvml.nvmlDeviceGetHandleByIndex(0)\n",
        "device_name = pynvml.nvmlDeviceGetName(handle)\n",
        "\n",
        "if (device_name != b'Tesla T4') and (device_name != b'Tesla P4') and (device_name != b'Tesla P100-PCIE-16GB'):\n",
        "  raise Exception(\"\"\"\n",
        "    Unfortunately this instance does not have a T4, P4 or P100 GPU.\n",
        "    \n",
        "    Please make sure you've configured Colab to request a GPU instance type.\n",
        "    \n",
        "    Sometimes Colab allocates a Tesla K80 instead of a T4, P4 or P100. Resetting the instance.\n",
        "If you get a K80 GPU, try Runtime -> Reset all runtimes...\n",
        "  \"\"\")\n",
        "else:\n",
        "  print('Woo! You got the right kind of GPU!')"
      ],
      "id": "Qrxzsfo8H_CE"
    },
    {
      "cell_type": "code",
      "execution_count": 4,
      "metadata": {
        "id": "oiWk3YS8SvtL"
      },
      "outputs": [],
      "source": [
        "# # Fetch the Rapids Colab installation files\n",
        "# !git clone https://github.com/rapidsai/rapidsai-csp-utils.git\n",
        "# !python rapidsai-csp-utils/colab/env-check.py"
      ],
      "id": "oiWk3YS8SvtL"
    },
    {
      "cell_type": "code",
      "execution_count": 5,
      "metadata": {
        "id": "xCc7p8T1THIy"
      },
      "outputs": [],
      "source": [
        "# # This will update the Colab environment and restart the kernel.  \n",
        "# # Don't run the next cell until you see the session crash.\n",
        "# !bash rapidsai-csp-utils/colab/update_gcc.sh\n",
        "# import os\n",
        "# os._exit(00)"
      ],
      "id": "xCc7p8T1THIy"
    },
    {
      "cell_type": "code",
      "execution_count": 6,
      "metadata": {
        "id": "gs58zCoqTJSz"
      },
      "outputs": [],
      "source": [
        "# # Install CondaColab.  This will restart your kernel one last time.  \n",
        "# # Run this cell by itself and only run the next cell once you see the session crash.\n",
        "# import condacolab\n",
        "# condacolab.install()"
      ],
      "id": "gs58zCoqTJSz"
    },
    {
      "cell_type": "code",
      "execution_count": 7,
      "metadata": {
        "id": "JN-B-WcfTKyA"
      },
      "outputs": [],
      "source": [
        "# # This is the last time that the session will crash and the kernel restarts. \n",
        "# # After restart, you can check if the installation was successful by running this command\n",
        "# import condacolab\n",
        "# condacolab.check()"
      ],
      "id": "JN-B-WcfTKyA"
    },
    {
      "cell_type": "code",
      "execution_count": 8,
      "metadata": {
        "id": "ULa4HTYMQWJ1"
      },
      "outputs": [],
      "source": [
        "# # The last setup command and the most time taking (around 15 minutes) is for \n",
        "# # installing the Rapids on the colab instance and copying the files into the current working directory.\n",
        "\n",
        "# !python rapidsai-csp-utils/colab/install_rapids.py stable\n",
        "# import os\n",
        "# os.environ['NUMBAPRO_NVVM'] = '/usr/local/cuda/nvvm/lib64/libnvvm.so'\n",
        "# os.environ['NUMBAPRO_LIBDEVICE'] = '/usr/local/cuda/nvvm/libdevice/'\n",
        "# os.environ['CONDA_PREFIX'] = '/usr/local'"
      ],
      "id": "ULa4HTYMQWJ1"
    },
    {
      "cell_type": "code",
      "execution_count": 9,
      "metadata": {
        "colab": {
          "base_uri": "https://localhost:8080/"
        },
        "id": "mvmXmX1kH6Kr",
        "outputId": "a13a5323-667e-4d90-ffe2-5ca9acd9dd64"
      },
      "outputs": [
        {
          "output_type": "stream",
          "name": "stdout",
          "text": [
            "Mounted at /content/drive\n"
          ]
        }
      ],
      "source": [
        "# Execute this cell in google colab\n",
        "from google.colab import drive\n",
        "drive.mount(\"/content/drive\", force_remount=True)"
      ],
      "id": "mvmXmX1kH6Kr"
    },
    {
      "cell_type": "code",
      "execution_count": 10,
      "metadata": {
        "colab": {
          "base_uri": "https://localhost:8080/"
        },
        "id": "UjrSI5VuD9bZ",
        "outputId": "a971a3d1-aeb8-4bc7-bf99-971a22caa140"
      },
      "outputs": [
        {
          "output_type": "stream",
          "name": "stdout",
          "text": [
            "Requirement already satisfied: timm in /usr/local/lib/python3.7/dist-packages (0.4.12)\n",
            "Requirement already satisfied: torch>=1.4 in /usr/local/lib/python3.7/dist-packages (from timm) (1.10.0+cu111)\n",
            "Requirement already satisfied: torchvision in /usr/local/lib/python3.7/dist-packages (from timm) (0.11.1+cu111)\n",
            "Requirement already satisfied: typing-extensions in /usr/local/lib/python3.7/dist-packages (from torch>=1.4->timm) (3.10.0.2)\n",
            "Requirement already satisfied: numpy in /usr/local/lib/python3.7/dist-packages (from torchvision->timm) (1.19.5)\n",
            "Requirement already satisfied: pillow!=8.3.0,>=5.3.0 in /usr/local/lib/python3.7/dist-packages (from torchvision->timm) (7.1.2)\n",
            "Requirement already satisfied: fastai in /usr/local/lib/python3.7/dist-packages (2.5.3)\n",
            "Requirement already satisfied: requests in /usr/local/lib/python3.7/dist-packages (from fastai) (2.23.0)\n",
            "Requirement already satisfied: pillow>6.0.0 in /usr/local/lib/python3.7/dist-packages (from fastai) (7.1.2)\n",
            "Requirement already satisfied: fastdownload<2,>=0.0.5 in /usr/local/lib/python3.7/dist-packages (from fastai) (0.0.5)\n",
            "Requirement already satisfied: scikit-learn in /usr/local/lib/python3.7/dist-packages (from fastai) (1.0.1)\n",
            "Requirement already satisfied: packaging in /usr/local/lib/python3.7/dist-packages (from fastai) (21.3)\n",
            "Requirement already satisfied: pyyaml in /usr/local/lib/python3.7/dist-packages (from fastai) (3.13)\n",
            "Requirement already satisfied: scipy in /usr/local/lib/python3.7/dist-packages (from fastai) (1.4.1)\n",
            "Requirement already satisfied: matplotlib in /usr/local/lib/python3.7/dist-packages (from fastai) (3.2.2)\n",
            "Requirement already satisfied: spacy<4 in /usr/local/lib/python3.7/dist-packages (from fastai) (2.2.4)\n",
            "Requirement already satisfied: fastprogress>=0.2.4 in /usr/local/lib/python3.7/dist-packages (from fastai) (1.0.0)\n",
            "Requirement already satisfied: pandas in /usr/local/lib/python3.7/dist-packages (from fastai) (1.1.5)\n",
            "Requirement already satisfied: torchvision>=0.8.2 in /usr/local/lib/python3.7/dist-packages (from fastai) (0.11.1+cu111)\n",
            "Requirement already satisfied: torch<1.11,>=1.7.0 in /usr/local/lib/python3.7/dist-packages (from fastai) (1.10.0+cu111)\n",
            "Requirement already satisfied: fastcore<1.4,>=1.3.22 in /usr/local/lib/python3.7/dist-packages (from fastai) (1.3.27)\n",
            "Requirement already satisfied: pip in /usr/local/lib/python3.7/dist-packages (from fastai) (21.1.3)\n",
            "Requirement already satisfied: numpy in /usr/local/lib/python3.7/dist-packages (from fastprogress>=0.2.4->fastai) (1.19.5)\n",
            "Requirement already satisfied: catalogue<1.1.0,>=0.0.7 in /usr/local/lib/python3.7/dist-packages (from spacy<4->fastai) (1.0.0)\n",
            "Requirement already satisfied: wasabi<1.1.0,>=0.4.0 in /usr/local/lib/python3.7/dist-packages (from spacy<4->fastai) (0.8.2)\n",
            "Requirement already satisfied: preshed<3.1.0,>=3.0.2 in /usr/local/lib/python3.7/dist-packages (from spacy<4->fastai) (3.0.6)\n",
            "Requirement already satisfied: cymem<2.1.0,>=2.0.2 in /usr/local/lib/python3.7/dist-packages (from spacy<4->fastai) (2.0.6)\n",
            "Requirement already satisfied: murmurhash<1.1.0,>=0.28.0 in /usr/local/lib/python3.7/dist-packages (from spacy<4->fastai) (1.0.6)\n",
            "Requirement already satisfied: blis<0.5.0,>=0.4.0 in /usr/local/lib/python3.7/dist-packages (from spacy<4->fastai) (0.4.1)\n",
            "Requirement already satisfied: thinc==7.4.0 in /usr/local/lib/python3.7/dist-packages (from spacy<4->fastai) (7.4.0)\n",
            "Requirement already satisfied: tqdm<5.0.0,>=4.38.0 in /usr/local/lib/python3.7/dist-packages (from spacy<4->fastai) (4.62.3)\n",
            "Requirement already satisfied: srsly<1.1.0,>=1.0.2 in /usr/local/lib/python3.7/dist-packages (from spacy<4->fastai) (1.0.5)\n",
            "Requirement already satisfied: plac<1.2.0,>=0.9.6 in /usr/local/lib/python3.7/dist-packages (from spacy<4->fastai) (1.1.3)\n",
            "Requirement already satisfied: setuptools in /usr/local/lib/python3.7/dist-packages (from spacy<4->fastai) (57.4.0)\n",
            "Requirement already satisfied: importlib-metadata>=0.20 in /usr/local/lib/python3.7/dist-packages (from catalogue<1.1.0,>=0.0.7->spacy<4->fastai) (4.8.2)\n",
            "Requirement already satisfied: typing-extensions>=3.6.4 in /usr/local/lib/python3.7/dist-packages (from importlib-metadata>=0.20->catalogue<1.1.0,>=0.0.7->spacy<4->fastai) (3.10.0.2)\n",
            "Requirement already satisfied: zipp>=0.5 in /usr/local/lib/python3.7/dist-packages (from importlib-metadata>=0.20->catalogue<1.1.0,>=0.0.7->spacy<4->fastai) (3.6.0)\n",
            "Requirement already satisfied: urllib3!=1.25.0,!=1.25.1,<1.26,>=1.21.1 in /usr/local/lib/python3.7/dist-packages (from requests->fastai) (1.24.3)\n",
            "Requirement already satisfied: idna<3,>=2.5 in /usr/local/lib/python3.7/dist-packages (from requests->fastai) (2.10)\n",
            "Requirement already satisfied: certifi>=2017.4.17 in /usr/local/lib/python3.7/dist-packages (from requests->fastai) (2021.10.8)\n",
            "Requirement already satisfied: chardet<4,>=3.0.2 in /usr/local/lib/python3.7/dist-packages (from requests->fastai) (3.0.4)\n",
            "Requirement already satisfied: pyparsing!=2.0.4,!=2.1.2,!=2.1.6,>=2.0.1 in /usr/local/lib/python3.7/dist-packages (from matplotlib->fastai) (3.0.6)\n",
            "Requirement already satisfied: python-dateutil>=2.1 in /usr/local/lib/python3.7/dist-packages (from matplotlib->fastai) (2.8.2)\n",
            "Requirement already satisfied: kiwisolver>=1.0.1 in /usr/local/lib/python3.7/dist-packages (from matplotlib->fastai) (1.3.2)\n",
            "Requirement already satisfied: cycler>=0.10 in /usr/local/lib/python3.7/dist-packages (from matplotlib->fastai) (0.11.0)\n",
            "Requirement already satisfied: six>=1.5 in /usr/local/lib/python3.7/dist-packages (from python-dateutil>=2.1->matplotlib->fastai) (1.15.0)\n",
            "Requirement already satisfied: pytz>=2017.2 in /usr/local/lib/python3.7/dist-packages (from pandas->fastai) (2018.9)\n",
            "Requirement already satisfied: joblib>=0.11 in /usr/local/lib/python3.7/dist-packages (from scikit-learn->fastai) (1.1.0)\n",
            "Requirement already satisfied: threadpoolctl>=2.0.0 in /usr/local/lib/python3.7/dist-packages (from scikit-learn->fastai) (3.0.0)\n"
          ]
        }
      ],
      "source": [
        "# Execute this cell in google colab\n",
        "\n",
        "# install libraries \n",
        "!pip install timm\n",
        "!pip install fastai --upgrade"
      ],
      "id": "UjrSI5VuD9bZ"
    },
    {
      "cell_type": "markdown",
      "metadata": {
        "id": "VKIkjiK8Fpve"
      },
      "source": [
        "# Import Libraries"
      ],
      "id": "VKIkjiK8Fpve"
    },
    {
      "cell_type": "code",
      "execution_count": 11,
      "metadata": {
        "id": "a4475447"
      },
      "outputs": [],
      "source": [
        "import math\n",
        "import gc\n",
        "import sys\n",
        "# In kaggle notebook, internet needs to be disconnected. Add this timm path to import the module.\n",
        "sys.path.append('../input/timm-pytorch-image-models/pytorch-image-models-master')\n",
        "\n",
        "from IPython.display import display\n",
        "from PIL import Image\n",
        "from tqdm import tqdm\n",
        "\n",
        "# data manipulation & visualization\n",
        "import numpy as np\n",
        "import pandas as pd\n",
        "\n",
        "# make display size bigger for pandas\n",
        "d = {'display.max_rows': 50,\n",
        "     'display.max_columns': 50}\n",
        "[pd.set_option(k, v) for k, v in d.items()]\n",
        "\n",
        "import matplotlib.pyplot as plt\n",
        "import seaborn as sns\n",
        "# Change fig style\n",
        "sns.set()\n",
        "\n",
        "# sklearn\n",
        "from sklearn.model_selection import KFold\n",
        "from sklearn.model_selection import StratifiedKFold\n",
        "\n",
        "from timm import create_model\n",
        "import timm\n",
        "import fastai\n",
        "from fastai.vision.all import *\n",
        "from fastai.tabular.all import *"
      ],
      "id": "a4475447"
    },
    {
      "cell_type": "markdown",
      "metadata": {
        "id": "br2Yg27pCoOA"
      },
      "source": [
        "# Data Preprocessing"
      ],
      "id": "br2Yg27pCoOA"
    },
    {
      "cell_type": "markdown",
      "metadata": {
        "id": "xE9dNDVRFYOs"
      },
      "source": [
        "## Define Constraints"
      ],
      "id": "xE9dNDVRFYOs"
    },
    {
      "cell_type": "code",
      "execution_count": 12,
      "metadata": {
        "id": "HcagaIls-C69"
      },
      "outputs": [],
      "source": [
        "# to include meta data, set USE_META to True. Set this to False when using features extracted from images\n",
        "USE_META = True\n",
        "\n",
        "# in google colab, set USE_COLAB to True. In Kaggle notebook, set this to False\n",
        "if 'google.colab' in str(get_ipython()):\n",
        "    USE_COLAB = True\n",
        "else:\n",
        "    USE_COLAB = False"
      ],
      "id": "HcagaIls-C69"
    },
    {
      "cell_type": "code",
      "execution_count": 13,
      "metadata": {
        "id": "a378c547"
      },
      "outputs": [],
      "source": [
        "# Constraints for the model\n",
        "SEED = 48\n",
        "BATCH_SIZE = 8\n",
        "IMAGE_SIZE = 224\n",
        "EPOCH = 5\n",
        "MODEL_NAME = \"swin_large_patch4_window7_224\"\n",
        "\n",
        "# set path for data and number of workers accordingly\n",
        "if USE_COLAB:\n",
        "    # colab's dataset path (google drive)\n",
        "    dataset_path = Path('/content/drive/MyDrive/kaggle/pawpularity/')\n",
        "    NUM_WORKERS = 2\n",
        "else:\n",
        "    # kaggle notebook's dataset path\n",
        "    dataset_path = Path('../input/petfinder-pawpularity-score/')\n",
        "    NUM_WORKERS = 4"
      ],
      "id": "a378c547"
    },
    {
      "cell_type": "code",
      "execution_count": 14,
      "metadata": {
        "id": "zpoi0avbLvuD"
      },
      "outputs": [],
      "source": [
        "# define path to train and test data\n",
        "train_df = pd.read_csv(dataset_path/'train.csv')\n",
        "test_df = pd.read_csv(dataset_path/'test.csv')"
      ],
      "id": "zpoi0avbLvuD"
    },
    {
      "cell_type": "code",
      "execution_count": 15,
      "metadata": {
        "id": "CsjNwRl1Lznk"
      },
      "outputs": [],
      "source": [
        "# create image path for each row for both train and test data\n",
        "train_df['path'] = train_df['Id'].map(lambda x:str(dataset_path/'train'/x)+'.jpg')\n",
        "test_df['path'] = test_df['Id'].map(lambda x:str(dataset_path/'test'/x)+'.jpg')\n",
        "\n",
        "# drop id column for train\n",
        "train_df = train_df.drop(columns=['Id'])\n",
        "#shuffle the train dataframe completely\n",
        "train_df = train_df.sample(frac=1).reset_index(drop=True) "
      ],
      "id": "CsjNwRl1Lznk"
    },
    {
      "cell_type": "code",
      "execution_count": 16,
      "metadata": {
        "colab": {
          "base_uri": "https://localhost:8080/"
        },
        "id": "RQLpRYtPL093",
        "outputId": "06f5fef0-a5af-41a4-b752-74761f8ba036"
      },
      "outputs": [
        {
          "output_type": "stream",
          "name": "stdout",
          "text": [
            "There are 9912 images\n"
          ]
        }
      ],
      "source": [
        "# check train_df data size\n",
        "len_df = len(train_df)\n",
        "print(f\"There are {len_df} images\")"
      ],
      "id": "RQLpRYtPL093"
    },
    {
      "cell_type": "code",
      "execution_count": 17,
      "metadata": {
        "id": "OH1tSlb0L3j9"
      },
      "outputs": [],
      "source": [
        "# create test df pawpularity column with 1 to store predicted Pawpularity score\n",
        "test_df['Pawpularity'] = [1]*len(test_df)\n",
        "# drop id for test data\n",
        "test_df = test_df.drop(columns=['Id'])"
      ],
      "id": "OH1tSlb0L3j9"
    },
    {
      "cell_type": "markdown",
      "metadata": {
        "id": "GCcYWlVxDIhw"
      },
      "source": [
        "# EDA"
      ],
      "id": "GCcYWlVxDIhw"
    },
    {
      "cell_type": "code",
      "execution_count": 18,
      "metadata": {
        "colab": {
          "base_uri": "https://localhost:8080/",
          "height": 407
        },
        "id": "fi_9OLi2MFvz",
        "outputId": "1b141340-ea95-45a0-abb3-8a35d3a5f588"
      },
      "outputs": [
        {
          "output_type": "stream",
          "name": "stdout",
          "text": [
            "The mean Pawpularity score is 38.03904358353511\n",
            "The median Pawpularity score is 33.0\n",
            "The standard deviation of the Pawpularity score is 20.591990105774542\n"
          ]
        },
        {
          "output_type": "display_data",
          "data": {
            "image/png": "[encoded data removed]",
            "text/plain": [
              "<Figure size 720x360 with 1 Axes>"
            ]
          },
          "metadata": {}
        }
      ],
      "source": [
        "# plot pawpularity score distribution\n",
        "x = train_df['Pawpularity']\n",
        "plt.figure(figsize=(10, 5))\n",
        "plt.hist(x, bins=20)\n",
        "plt.xlabel('Pawpularity Score ')\n",
        "plt.ylabel('Record Count')\n",
        "plt.title('Pawpularity Score Distribution (Unnormalized)')\n",
        "\n",
        "# add mean and median to the histogram\n",
        "plt.axvline(x.mean(), color='k', linestyle='dashed', linewidth=1)\n",
        "plt.axvline(x.median(), color='r', linestyle='dashed', linewidth=1)\n",
        "min_ylim, max_ylim = plt.ylim()\n",
        "plt.text(x.mean()*1.1, max_ylim*0.8, 'Mean: {:.2f}'.format(x.mean()))\n",
        "plt.text(x.median()*0.1, max_ylim*0.8, 'median: {:.2f}'.format(x.median()), c='r')\n",
        "\n",
        "# print mean, median, and standard deviation of pawpularity score\n",
        "print(f\"The mean Pawpularity score is {train_df['Pawpularity'].mean()}\")\n",
        "print(f\"The median Pawpularity score is {train_df['Pawpularity'].median()}\")\n",
        "print(f\"The standard deviation of the Pawpularity score is {train_df['Pawpularity'].std()}\")"
      ],
      "id": "fi_9OLi2MFvz"
    },
    {
      "cell_type": "code",
      "execution_count": 19,
      "metadata": {
        "colab": {
          "base_uri": "https://localhost:8080/"
        },
        "id": "YyND6R7qMH35",
        "outputId": "b7eee6ea-0351-4759-a4aa-beb30c3102f3"
      },
      "outputs": [
        {
          "output_type": "stream",
          "name": "stdout",
          "text": [
            "There are 100 unique values of Pawpularity score\n"
          ]
        }
      ],
      "source": [
        "# count unique value of pawpularity score\n",
        "print(f\"There are {len(train_df['Pawpularity'].unique())} unique values of Pawpularity score\")"
      ],
      "id": "YyND6R7qMH35"
    },
    {
      "cell_type": "code",
      "execution_count": 20,
      "metadata": {
        "colab": {
          "base_uri": "https://localhost:8080/"
        },
        "id": "1b2923bd",
        "outputId": "e639f9b3-dd4e-4a4b-9ed3-df909f0f9d9a"
      },
      "outputs": [
        {
          "output_type": "stream",
          "name": "stdout",
          "text": [
            "There are 9912 images\n"
          ]
        }
      ],
      "source": [
        "len_df = len(train_df)\n",
        "print(f\"There are {len_df} images\")"
      ],
      "id": "1b2923bd"
    },
    {
      "cell_type": "markdown",
      "metadata": {
        "id": "gqETpgl3DQqB"
      },
      "source": [
        "# Feature Engineering"
      ],
      "id": "gqETpgl3DQqB"
    },
    {
      "cell_type": "markdown",
      "metadata": {
        "id": "9vc_arztVr9n"
      },
      "source": [
        "## Image ratio feature"
      ],
      "id": "9vc_arztVr9n"
    },
    {
      "cell_type": "code",
      "execution_count": 21,
      "metadata": {
        "colab": {
          "base_uri": "https://localhost:8080/",
          "height": 206
        },
        "id": "b2CH9WrJMOVf",
        "outputId": "22141f0f-8a04-4689-f6d2-1bae87abaf4a"
      },
      "outputs": [
        {
          "output_type": "display_data",
          "data": {
            "text/html": [
              "\n",
              "  <div id=\"df-731f3139-78d7-4172-a8fa-00e493734ccc\">\n",
              "    <div class=\"colab-df-container\">\n",
              "      <div>\n",
              "<style scoped>\n",
              "    .dataframe tbody tr th:only-of-type {\n",
              "        vertical-align: middle;\n",
              "    }\n",
              "\n",
              "    .dataframe tbody tr th {\n",
              "        vertical-align: top;\n",
              "    }\n",
              "\n",
              "    .dataframe thead th {\n",
              "        text-align: right;\n",
              "    }\n",
              "</style>\n",
              "<table border=\"1\" class=\"dataframe\">\n",
              "  <thead>\n",
              "    <tr style=\"text-align: right;\">\n",
              "      <th></th>\n",
              "      <th>img_size</th>\n",
              "      <th>count_num</th>\n",
              "    </tr>\n",
              "  </thead>\n",
              "  <tbody>\n",
              "    <tr>\n",
              "      <th>2</th>\n",
              "      <td>720_960</td>\n",
              "      <td>3527</td>\n",
              "    </tr>\n",
              "    <tr>\n",
              "      <th>3</th>\n",
              "      <td>1280_960</td>\n",
              "      <td>802</td>\n",
              "    </tr>\n",
              "    <tr>\n",
              "      <th>0</th>\n",
              "      <td>540_960</td>\n",
              "      <td>619</td>\n",
              "    </tr>\n",
              "    <tr>\n",
              "      <th>29</th>\n",
              "      <td>1280_1280</td>\n",
              "      <td>302</td>\n",
              "    </tr>\n",
              "    <tr>\n",
              "      <th>1</th>\n",
              "      <td>960_960</td>\n",
              "      <td>272</td>\n",
              "    </tr>\n",
              "  </tbody>\n",
              "</table>\n",
              "</div>\n",
              "      <button class=\"colab-df-convert\" onclick=\"convertToInteractive('df-731f3139-78d7-4172-a8fa-00e493734ccc')\"\n",
              "              title=\"Convert this dataframe to an interactive table.\"\n",
              "              style=\"display:none;\">\n",
              "        \n",
              "  <svg xmlns=\"http://www.w3.org/2000/svg\" height=\"24px\"viewBox=\"0 0 24 24\"\n",
              "       width=\"24px\">\n",
              "    <path d=\"M0 0h24v24H0V0z\" fill=\"none\"/>\n",
              "    <path d=\"M18.56 5.44l.94 2.06.94-2.06 2.06-.94-2.06-.94-.94-2.06-.94 2.06-2.06.94zm-11 1L8.5 8.5l.94-2.06 2.06-.94-2.06-.94L8.5 2.5l-.94 2.06-2.06.94zm10 10l.94 2.06.94-2.06 2.06-.94-2.06-.94-.94-2.06-.94 2.06-2.06.94z\"/><path d=\"M17.41 7.96l-1.37-1.37c-.4-.4-.92-.59-1.43-.59-.52 0-1.04.2-1.43.59L10.3 9.45l-7.72 7.72c-.78.78-.78 2.05 0 2.83L4 21.41c.39.39.9.59 1.41.59.51 0 1.02-.2 1.41-.59l7.78-7.78 2.81-2.81c.8-.78.8-2.07 0-2.86zM5.41 20L4 18.59l7.72-7.72 1.47 1.35L5.41 20z\"/>\n",
              "  </svg>\n",
              "      </button>\n",
              "      \n",
              "  <style>\n",
              "    .colab-df-container {\n",
              "      display:flex;\n",
              "      flex-wrap:wrap;\n",
              "      gap: 12px;\n",
              "    }\n",
              "\n",
              "    .colab-df-convert {\n",
              "      background-color: #E8F0FE;\n",
              "      border: none;\n",
              "      border-radius: 50%;\n",
              "      cursor: pointer;\n",
              "      display: none;\n",
              "      fill: #1967D2;\n",
              "      height: 32px;\n",
              "      padding: 0 0 0 0;\n",
              "      width: 32px;\n",
              "    }\n",
              "\n",
              "    .colab-df-convert:hover {\n",
              "      background-color: #E2EBFA;\n",
              "      box-shadow: 0px 1px 2px rgba(60, 64, 67, 0.3), 0px 1px 3px 1px rgba(60, 64, 67, 0.15);\n",
              "      fill: #174EA6;\n",
              "    }\n",
              "\n",
              "    [theme=dark] .colab-df-convert {\n",
              "      background-color: #3B4455;\n",
              "      fill: #D2E3FC;\n",
              "    }\n",
              "\n",
              "    [theme=dark] .colab-df-convert:hover {\n",
              "      background-color: #434B5C;\n",
              "      box-shadow: 0px 1px 3px 1px rgba(0, 0, 0, 0.15);\n",
              "      filter: drop-shadow(0px 1px 2px rgba(0, 0, 0, 0.3));\n",
              "      fill: #FFFFFF;\n",
              "    }\n",
              "  </style>\n",
              "\n",
              "      <script>\n",
              "        const buttonEl =\n",
              "          document.querySelector('#df-731f3139-78d7-4172-a8fa-00e493734ccc button.colab-df-convert');\n",
              "        buttonEl.style.display =\n",
              "          google.colab.kernel.accessAllowed ? 'block' : 'none';\n",
              "\n",
              "        async function convertToInteractive(key) {\n",
              "          const element = document.querySelector('#df-731f3139-78d7-4172-a8fa-00e493734ccc');\n",
              "          const dataTable =\n",
              "            await google.colab.kernel.invokeFunction('convertToInteractive',\n",
              "                                                     [key], {});\n",
              "          if (!dataTable) return;\n",
              "\n",
              "          const docLinkHtml = 'Like what you see? Visit the ' +\n",
              "            '<a target=\"_blank\" href=https://colab.research.google.com/notebooks/data_table.ipynb>data table notebook</a>'\n",
              "            + ' to learn more about interactive tables.';\n",
              "          element.innerHTML = '';\n",
              "          dataTable['output_type'] = 'display_data';\n",
              "          await google.colab.output.renderOutput(dataTable, element);\n",
              "          const docLink = document.createElement('div');\n",
              "          docLink.innerHTML = docLinkHtml;\n",
              "          element.appendChild(docLink);\n",
              "        }\n",
              "      </script>\n",
              "    </div>\n",
              "  </div>\n",
              "  "
            ],
            "text/plain": [
              "     img_size  count_num\n",
              "2     720_960       3527\n",
              "3    1280_960        802\n",
              "0     540_960        619\n",
              "29  1280_1280        302\n",
              "1     960_960        272"
            ]
          },
          "metadata": {}
        }
      ],
      "source": [
        "if USE_COLAB:\n",
        "  # in colab, it takes more time to get height & width for all the images from google drive. \n",
        "  # Use the precalculated df(pickle) instead to save time.\n",
        "  train_df = pd.read_pickle(dataset_path/'train_img_ratio.pkl')\n",
        "  counter_df = pd.read_pickle(dataset_path/'counter.pkl')\n",
        "  display(counter_df.head())\n",
        "else:\n",
        "  # create an empty dictionary for size count\n",
        "  counter = {}\n",
        "\n",
        "  # create empty columns to store values in the next iteration\n",
        "  train_df['img_width']= 0\n",
        "  train_df['img_height'] = 0\n",
        "  train_df['img_size'] = ''\n",
        "      \n",
        "  # count each image size\n",
        "  for i in tqdm(range(len(train_df))):\n",
        "    # open method used to open different extension image file\n",
        "    im = Image.open(train_df[\"path\"][i]) \n",
        "    width, height = im.size\n",
        "    width_height_str = str(width) + '_' + str(height)\n",
        "    \n",
        "    # add each image's width, height and image size columns to train_df\n",
        "    train_df.loc[i, 'img_width'] = width\n",
        "    train_df.loc[i, 'img_height'] = height\n",
        "    train_df.loc[i, 'img_size'] = width_height_str\n",
        "    \n",
        "    # update the counter dict\n",
        "    if width_height_str not in (counter):\n",
        "        counter[width_height_str] = 1\n",
        "    else:\n",
        "        counter[width_height_str] += 1\n",
        "\n",
        "  # convert the dict to df\n",
        "  counter_df = pd.DataFrame.from_dict(counter, orient='index').reset_index()\n",
        "  counter_df = counter_df.rename(columns={0: 'count_num', 'index': 'img_size'})\\\n",
        "                        .sort_values(by=['count_num'], ascending=False)\n",
        "  display(counter_df.head())"
      ],
      "id": "b2CH9WrJMOVf"
    },
    {
      "cell_type": "code",
      "execution_count": 22,
      "metadata": {
        "id": "5aOaXO1m_K-L"
      },
      "outputs": [],
      "source": [
        "# write train_df image size as pickle since getting height and width info for all images from google drive takes time\n",
        "# train_df.to_pickle(dataset_path/'train_img_ratio.pkl')\n",
        "# counter_df.to_pickle(dataset_path/'counter.pkl')"
      ],
      "id": "5aOaXO1m_K-L"
    },
    {
      "cell_type": "code",
      "execution_count": 23,
      "metadata": {
        "colab": {
          "base_uri": "https://localhost:8080/",
          "height": 372
        },
        "id": "ekFhmzZ9MSNW",
        "outputId": "c980645e-0239-4a83-fee8-c76c038864f3"
      },
      "outputs": [
        {
          "output_type": "execute_result",
          "data": {
            "text/plain": [
              "Text(0.5, 1.0, 'Image Size : Record Count')"
            ]
          },
          "metadata": {},
          "execution_count": 23
        },
        {
          "output_type": "display_data",
          "data": {
            "image/png": "[encoded data removed]",
            "text/plain": [
              "<Figure size 720x360 with 1 Axes>"
            ]
          },
          "metadata": {}
        }
      ],
      "source": [
        "# plot img_size\n",
        "x = counter_df['count_num'].head(20)\n",
        "y = counter_df['img_size'].head(20)\n",
        "\n",
        "plt.figure(figsize=(10, 5))\n",
        "plt.barh(y, x)\n",
        "plt.gca().invert_yaxis()\n",
        "plt.xlabel('Record Count')\n",
        "plt.ylabel('Image Size')\n",
        "plt.title('Image Size : Record Count')"
      ],
      "id": "ekFhmzZ9MSNW"
    },
    {
      "cell_type": "code",
      "execution_count": 24,
      "metadata": {
        "colab": {
          "base_uri": "https://localhost:8080/",
          "height": 288
        },
        "id": "f__h0ZfnU8be",
        "outputId": "2be2e9a4-b89c-422b-d1a4-a4b43303e988"
      },
      "outputs": [
        {
          "output_type": "execute_result",
          "data": {
            "text/html": [
              "\n",
              "  <div id=\"df-fd476da7-4998-4041-8737-b569140a2ba5\">\n",
              "    <div class=\"colab-df-container\">\n",
              "      <div>\n",
              "<style scoped>\n",
              "    .dataframe tbody tr th:only-of-type {\n",
              "        vertical-align: middle;\n",
              "    }\n",
              "\n",
              "    .dataframe tbody tr th {\n",
              "        vertical-align: top;\n",
              "    }\n",
              "\n",
              "    .dataframe thead th {\n",
              "        text-align: right;\n",
              "    }\n",
              "</style>\n",
              "<table border=\"1\" class=\"dataframe\">\n",
              "  <thead>\n",
              "    <tr style=\"text-align: right;\">\n",
              "      <th></th>\n",
              "      <th>Subject Focus</th>\n",
              "      <th>Eyes</th>\n",
              "      <th>Face</th>\n",
              "      <th>Near</th>\n",
              "      <th>Action</th>\n",
              "      <th>Accessory</th>\n",
              "      <th>Group</th>\n",
              "      <th>Collage</th>\n",
              "      <th>Human</th>\n",
              "      <th>Occlusion</th>\n",
              "      <th>Info</th>\n",
              "      <th>Blur</th>\n",
              "      <th>Pawpularity</th>\n",
              "      <th>path</th>\n",
              "      <th>img_width</th>\n",
              "      <th>img_height</th>\n",
              "      <th>img_size</th>\n",
              "      <th>image_ratio</th>\n",
              "    </tr>\n",
              "  </thead>\n",
              "  <tbody>\n",
              "    <tr>\n",
              "      <th>0</th>\n",
              "      <td>0</td>\n",
              "      <td>0</td>\n",
              "      <td>1</td>\n",
              "      <td>1</td>\n",
              "      <td>0</td>\n",
              "      <td>0</td>\n",
              "      <td>0</td>\n",
              "      <td>0</td>\n",
              "      <td>0</td>\n",
              "      <td>0</td>\n",
              "      <td>0</td>\n",
              "      <td>1</td>\n",
              "      <td>50</td>\n",
              "      <td>/content/drive/MyDrive/kaggle/pawpularity/train/ebaaa8e384b3d2f0a56c7ff7675c154c.jpg</td>\n",
              "      <td>540</td>\n",
              "      <td>960</td>\n",
              "      <td>540_960</td>\n",
              "      <td>vertical</td>\n",
              "    </tr>\n",
              "    <tr>\n",
              "      <th>1</th>\n",
              "      <td>0</td>\n",
              "      <td>1</td>\n",
              "      <td>1</td>\n",
              "      <td>1</td>\n",
              "      <td>0</td>\n",
              "      <td>1</td>\n",
              "      <td>0</td>\n",
              "      <td>1</td>\n",
              "      <td>0</td>\n",
              "      <td>0</td>\n",
              "      <td>1</td>\n",
              "      <td>0</td>\n",
              "      <td>25</td>\n",
              "      <td>/content/drive/MyDrive/kaggle/pawpularity/train/25e3bf4267c2dc3f579b779418221bb7.jpg</td>\n",
              "      <td>960</td>\n",
              "      <td>960</td>\n",
              "      <td>960_960</td>\n",
              "      <td>square</td>\n",
              "    </tr>\n",
              "    <tr>\n",
              "      <th>2</th>\n",
              "      <td>0</td>\n",
              "      <td>0</td>\n",
              "      <td>1</td>\n",
              "      <td>1</td>\n",
              "      <td>0</td>\n",
              "      <td>1</td>\n",
              "      <td>0</td>\n",
              "      <td>0</td>\n",
              "      <td>0</td>\n",
              "      <td>0</td>\n",
              "      <td>0</td>\n",
              "      <td>0</td>\n",
              "      <td>27</td>\n",
              "      <td>/content/drive/MyDrive/kaggle/pawpularity/train/6548166fb3fda22b67881176397f0223.jpg</td>\n",
              "      <td>720</td>\n",
              "      <td>960</td>\n",
              "      <td>720_960</td>\n",
              "      <td>vertical</td>\n",
              "    </tr>\n",
              "    <tr>\n",
              "      <th>3</th>\n",
              "      <td>0</td>\n",
              "      <td>1</td>\n",
              "      <td>1</td>\n",
              "      <td>1</td>\n",
              "      <td>0</td>\n",
              "      <td>0</td>\n",
              "      <td>0</td>\n",
              "      <td>0</td>\n",
              "      <td>1</td>\n",
              "      <td>1</td>\n",
              "      <td>0</td>\n",
              "      <td>0</td>\n",
              "      <td>19</td>\n",
              "      <td>/content/drive/MyDrive/kaggle/pawpularity/train/472c40116e1833555715e4774445ae5b.jpg</td>\n",
              "      <td>720</td>\n",
              "      <td>960</td>\n",
              "      <td>720_960</td>\n",
              "      <td>vertical</td>\n",
              "    </tr>\n",
              "    <tr>\n",
              "      <th>4</th>\n",
              "      <td>0</td>\n",
              "      <td>1</td>\n",
              "      <td>1</td>\n",
              "      <td>1</td>\n",
              "      <td>0</td>\n",
              "      <td>0</td>\n",
              "      <td>0</td>\n",
              "      <td>1</td>\n",
              "      <td>0</td>\n",
              "      <td>0</td>\n",
              "      <td>0</td>\n",
              "      <td>0</td>\n",
              "      <td>27</td>\n",
              "      <td>/content/drive/MyDrive/kaggle/pawpularity/train/7b77e1a6d93667b575d57db83facd860.jpg</td>\n",
              "      <td>1280</td>\n",
              "      <td>960</td>\n",
              "      <td>1280_960</td>\n",
              "      <td>horizontal</td>\n",
              "    </tr>\n",
              "  </tbody>\n",
              "</table>\n",
              "</div>\n",
              "      <button class=\"colab-df-convert\" onclick=\"convertToInteractive('df-fd476da7-4998-4041-8737-b569140a2ba5')\"\n",
              "              title=\"Convert this dataframe to an interactive table.\"\n",
              "              style=\"display:none;\">\n",
              "        \n",
              "  <svg xmlns=\"http://www.w3.org/2000/svg\" height=\"24px\"viewBox=\"0 0 24 24\"\n",
              "       width=\"24px\">\n",
              "    <path d=\"M0 0h24v24H0V0z\" fill=\"none\"/>\n",
              "    <path d=\"M18.56 5.44l.94 2.06.94-2.06 2.06-.94-2.06-.94-.94-2.06-.94 2.06-2.06.94zm-11 1L8.5 8.5l.94-2.06 2.06-.94-2.06-.94L8.5 2.5l-.94 2.06-2.06.94zm10 10l.94 2.06.94-2.06 2.06-.94-2.06-.94-.94-2.06-.94 2.06-2.06.94z\"/><path d=\"M17.41 7.96l-1.37-1.37c-.4-.4-.92-.59-1.43-.59-.52 0-1.04.2-1.43.59L10.3 9.45l-7.72 7.72c-.78.78-.78 2.05 0 2.83L4 21.41c.39.39.9.59 1.41.59.51 0 1.02-.2 1.41-.59l7.78-7.78 2.81-2.81c.8-.78.8-2.07 0-2.86zM5.41 20L4 18.59l7.72-7.72 1.47 1.35L5.41 20z\"/>\n",
              "  </svg>\n",
              "      </button>\n",
              "      \n",
              "  <style>\n",
              "    .colab-df-container {\n",
              "      display:flex;\n",
              "      flex-wrap:wrap;\n",
              "      gap: 12px;\n",
              "    }\n",
              "\n",
              "    .colab-df-convert {\n",
              "      background-color: #E8F0FE;\n",
              "      border: none;\n",
              "      border-radius: 50%;\n",
              "      cursor: pointer;\n",
              "      display: none;\n",
              "      fill: #1967D2;\n",
              "      height: 32px;\n",
              "      padding: 0 0 0 0;\n",
              "      width: 32px;\n",
              "    }\n",
              "\n",
              "    .colab-df-convert:hover {\n",
              "      background-color: #E2EBFA;\n",
              "      box-shadow: 0px 1px 2px rgba(60, 64, 67, 0.3), 0px 1px 3px 1px rgba(60, 64, 67, 0.15);\n",
              "      fill: #174EA6;\n",
              "    }\n",
              "\n",
              "    [theme=dark] .colab-df-convert {\n",
              "      background-color: #3B4455;\n",
              "      fill: #D2E3FC;\n",
              "    }\n",
              "\n",
              "    [theme=dark] .colab-df-convert:hover {\n",
              "      background-color: #434B5C;\n",
              "      box-shadow: 0px 1px 3px 1px rgba(0, 0, 0, 0.15);\n",
              "      filter: drop-shadow(0px 1px 2px rgba(0, 0, 0, 0.3));\n",
              "      fill: #FFFFFF;\n",
              "    }\n",
              "  </style>\n",
              "\n",
              "      <script>\n",
              "        const buttonEl =\n",
              "          document.querySelector('#df-fd476da7-4998-4041-8737-b569140a2ba5 button.colab-df-convert');\n",
              "        buttonEl.style.display =\n",
              "          google.colab.kernel.accessAllowed ? 'block' : 'none';\n",
              "\n",
              "        async function convertToInteractive(key) {\n",
              "          const element = document.querySelector('#df-fd476da7-4998-4041-8737-b569140a2ba5');\n",
              "          const dataTable =\n",
              "            await google.colab.kernel.invokeFunction('convertToInteractive',\n",
              "                                                     [key], {});\n",
              "          if (!dataTable) return;\n",
              "\n",
              "          const docLinkHtml = 'Like what you see? Visit the ' +\n",
              "            '<a target=\"_blank\" href=https://colab.research.google.com/notebooks/data_table.ipynb>data table notebook</a>'\n",
              "            + ' to learn more about interactive tables.';\n",
              "          element.innerHTML = '';\n",
              "          dataTable['output_type'] = 'display_data';\n",
              "          await google.colab.output.renderOutput(dataTable, element);\n",
              "          const docLink = document.createElement('div');\n",
              "          docLink.innerHTML = docLinkHtml;\n",
              "          element.appendChild(docLink);\n",
              "        }\n",
              "      </script>\n",
              "    </div>\n",
              "  </div>\n",
              "  "
            ],
            "text/plain": [
              "   Subject Focus  Eyes  Face  Near  Action  Accessory  Group  Collage  Human  \\\n",
              "0              0     0     1     1       0          0      0        0      0   \n",
              "1              0     1     1     1       0          1      0        1      0   \n",
              "2              0     0     1     1       0          1      0        0      0   \n",
              "3              0     1     1     1       0          0      0        0      1   \n",
              "4              0     1     1     1       0          0      0        1      0   \n",
              "\n",
              "   Occlusion  Info  Blur  Pawpularity  \\\n",
              "0          0     0     1           50   \n",
              "1          0     1     0           25   \n",
              "2          0     0     0           27   \n",
              "3          1     0     0           19   \n",
              "4          0     0     0           27   \n",
              "\n",
              "                                                                                   path  \\\n",
              "0  /content/drive/MyDrive/kaggle/pawpularity/train/ebaaa8e384b3d2f0a56c7ff7675c154c.jpg   \n",
              "1  /content/drive/MyDrive/kaggle/pawpularity/train/25e3bf4267c2dc3f579b779418221bb7.jpg   \n",
              "2  /content/drive/MyDrive/kaggle/pawpularity/train/6548166fb3fda22b67881176397f0223.jpg   \n",
              "3  /content/drive/MyDrive/kaggle/pawpularity/train/472c40116e1833555715e4774445ae5b.jpg   \n",
              "4  /content/drive/MyDrive/kaggle/pawpularity/train/7b77e1a6d93667b575d57db83facd860.jpg   \n",
              "\n",
              "   img_width  img_height  img_size image_ratio  \n",
              "0        540         960   540_960    vertical  \n",
              "1        960         960   960_960      square  \n",
              "2        720         960   720_960    vertical  \n",
              "3        720         960   720_960    vertical  \n",
              "4       1280         960  1280_960  horizontal  "
            ]
          },
          "metadata": {},
          "execution_count": 24
        }
      ],
      "source": [
        "# create image's size ratio\n",
        "def find_image_ratio(row) -> str:\n",
        "    \"\"\"\n",
        "    compare image's width and height to label image size ratio\n",
        "    \"\"\"\n",
        "    if row['img_width'] > row['img_height']:\n",
        "        return 'horizontal'\n",
        "    elif row['img_width'] < row['img_height']:\n",
        "        return 'vertical'\n",
        "    else:\n",
        "        return 'square'\n",
        "    \n",
        "train_df['image_ratio'] = train_df.apply(find_image_ratio, axis=1)\n",
        "train_df.head()"
      ],
      "id": "f__h0ZfnU8be"
    },
    {
      "cell_type": "code",
      "execution_count": 25,
      "metadata": {
        "colab": {
          "base_uri": "https://localhost:8080/",
          "height": 175
        },
        "id": "pUKJLlmiVClh",
        "outputId": "18d7000f-8e05-42de-9d28-22d7478987b5"
      },
      "outputs": [
        {
          "output_type": "execute_result",
          "data": {
            "text/html": [
              "\n",
              "  <div id=\"df-f0d6009b-3228-4093-a2ff-26e0a24852fc\">\n",
              "    <div class=\"colab-df-container\">\n",
              "      <div>\n",
              "<style scoped>\n",
              "    .dataframe tbody tr th:only-of-type {\n",
              "        vertical-align: middle;\n",
              "    }\n",
              "\n",
              "    .dataframe tbody tr th {\n",
              "        vertical-align: top;\n",
              "    }\n",
              "\n",
              "    .dataframe thead th {\n",
              "        text-align: right;\n",
              "    }\n",
              "</style>\n",
              "<table border=\"1\" class=\"dataframe\">\n",
              "  <thead>\n",
              "    <tr style=\"text-align: right;\">\n",
              "      <th></th>\n",
              "      <th>count</th>\n",
              "      <th>mean</th>\n",
              "      <th>std</th>\n",
              "      <th>min</th>\n",
              "      <th>25%</th>\n",
              "      <th>50%</th>\n",
              "      <th>75%</th>\n",
              "      <th>max</th>\n",
              "    </tr>\n",
              "    <tr>\n",
              "      <th>image_ratio</th>\n",
              "      <th></th>\n",
              "      <th></th>\n",
              "      <th></th>\n",
              "      <th></th>\n",
              "      <th></th>\n",
              "      <th></th>\n",
              "      <th></th>\n",
              "      <th></th>\n",
              "    </tr>\n",
              "  </thead>\n",
              "  <tbody>\n",
              "    <tr>\n",
              "      <th>horizontal</th>\n",
              "      <td>2568.0</td>\n",
              "      <td>37.690421</td>\n",
              "      <td>20.425708</td>\n",
              "      <td>1.0</td>\n",
              "      <td>25.00</td>\n",
              "      <td>33.0</td>\n",
              "      <td>46.0</td>\n",
              "      <td>100.0</td>\n",
              "    </tr>\n",
              "    <tr>\n",
              "      <th>square</th>\n",
              "      <td>678.0</td>\n",
              "      <td>38.094395</td>\n",
              "      <td>20.963496</td>\n",
              "      <td>1.0</td>\n",
              "      <td>24.25</td>\n",
              "      <td>34.0</td>\n",
              "      <td>48.0</td>\n",
              "      <td>100.0</td>\n",
              "    </tr>\n",
              "    <tr>\n",
              "      <th>vertical</th>\n",
              "      <td>6666.0</td>\n",
              "      <td>38.167717</td>\n",
              "      <td>20.619223</td>\n",
              "      <td>1.0</td>\n",
              "      <td>25.00</td>\n",
              "      <td>33.0</td>\n",
              "      <td>46.0</td>\n",
              "      <td>100.0</td>\n",
              "    </tr>\n",
              "  </tbody>\n",
              "</table>\n",
              "</div>\n",
              "      <button class=\"colab-df-convert\" onclick=\"convertToInteractive('df-f0d6009b-3228-4093-a2ff-26e0a24852fc')\"\n",
              "              title=\"Convert this dataframe to an interactive table.\"\n",
              "              style=\"display:none;\">\n",
              "        \n",
              "  <svg xmlns=\"http://www.w3.org/2000/svg\" height=\"24px\"viewBox=\"0 0 24 24\"\n",
              "       width=\"24px\">\n",
              "    <path d=\"M0 0h24v24H0V0z\" fill=\"none\"/>\n",
              "    <path d=\"M18.56 5.44l.94 2.06.94-2.06 2.06-.94-2.06-.94-.94-2.06-.94 2.06-2.06.94zm-11 1L8.5 8.5l.94-2.06 2.06-.94-2.06-.94L8.5 2.5l-.94 2.06-2.06.94zm10 10l.94 2.06.94-2.06 2.06-.94-2.06-.94-.94-2.06-.94 2.06-2.06.94z\"/><path d=\"M17.41 7.96l-1.37-1.37c-.4-.4-.92-.59-1.43-.59-.52 0-1.04.2-1.43.59L10.3 9.45l-7.72 7.72c-.78.78-.78 2.05 0 2.83L4 21.41c.39.39.9.59 1.41.59.51 0 1.02-.2 1.41-.59l7.78-7.78 2.81-2.81c.8-.78.8-2.07 0-2.86zM5.41 20L4 18.59l7.72-7.72 1.47 1.35L5.41 20z\"/>\n",
              "  </svg>\n",
              "      </button>\n",
              "      \n",
              "  <style>\n",
              "    .colab-df-container {\n",
              "      display:flex;\n",
              "      flex-wrap:wrap;\n",
              "      gap: 12px;\n",
              "    }\n",
              "\n",
              "    .colab-df-convert {\n",
              "      background-color: #E8F0FE;\n",
              "      border: none;\n",
              "      border-radius: 50%;\n",
              "      cursor: pointer;\n",
              "      display: none;\n",
              "      fill: #1967D2;\n",
              "      height: 32px;\n",
              "      padding: 0 0 0 0;\n",
              "      width: 32px;\n",
              "    }\n",
              "\n",
              "    .colab-df-convert:hover {\n",
              "      background-color: #E2EBFA;\n",
              "      box-shadow: 0px 1px 2px rgba(60, 64, 67, 0.3), 0px 1px 3px 1px rgba(60, 64, 67, 0.15);\n",
              "      fill: #174EA6;\n",
              "    }\n",
              "\n",
              "    [theme=dark] .colab-df-convert {\n",
              "      background-color: #3B4455;\n",
              "      fill: #D2E3FC;\n",
              "    }\n",
              "\n",
              "    [theme=dark] .colab-df-convert:hover {\n",
              "      background-color: #434B5C;\n",
              "      box-shadow: 0px 1px 3px 1px rgba(0, 0, 0, 0.15);\n",
              "      filter: drop-shadow(0px 1px 2px rgba(0, 0, 0, 0.3));\n",
              "      fill: #FFFFFF;\n",
              "    }\n",
              "  </style>\n",
              "\n",
              "      <script>\n",
              "        const buttonEl =\n",
              "          document.querySelector('#df-f0d6009b-3228-4093-a2ff-26e0a24852fc button.colab-df-convert');\n",
              "        buttonEl.style.display =\n",
              "          google.colab.kernel.accessAllowed ? 'block' : 'none';\n",
              "\n",
              "        async function convertToInteractive(key) {\n",
              "          const element = document.querySelector('#df-f0d6009b-3228-4093-a2ff-26e0a24852fc');\n",
              "          const dataTable =\n",
              "            await google.colab.kernel.invokeFunction('convertToInteractive',\n",
              "                                                     [key], {});\n",
              "          if (!dataTable) return;\n",
              "\n",
              "          const docLinkHtml = 'Like what you see? Visit the ' +\n",
              "            '<a target=\"_blank\" href=https://colab.research.google.com/notebooks/data_table.ipynb>data table notebook</a>'\n",
              "            + ' to learn more about interactive tables.';\n",
              "          element.innerHTML = '';\n",
              "          dataTable['output_type'] = 'display_data';\n",
              "          await google.colab.output.renderOutput(dataTable, element);\n",
              "          const docLink = document.createElement('div');\n",
              "          docLink.innerHTML = docLinkHtml;\n",
              "          element.appendChild(docLink);\n",
              "        }\n",
              "      </script>\n",
              "    </div>\n",
              "  </div>\n",
              "  "
            ],
            "text/plain": [
              "              count       mean        std  min    25%   50%   75%    max\n",
              "image_ratio                                                             \n",
              "horizontal   2568.0  37.690421  20.425708  1.0  25.00  33.0  46.0  100.0\n",
              "square        678.0  38.094395  20.963496  1.0  24.25  34.0  48.0  100.0\n",
              "vertical     6666.0  38.167717  20.619223  1.0  25.00  33.0  46.0  100.0"
            ]
          },
          "metadata": {},
          "execution_count": 25
        }
      ],
      "source": [
        "# check mean pawpularity for each image size ratio\n",
        "train_df.groupby(by=['image_ratio'])['Pawpularity'].describe()"
      ],
      "id": "pUKJLlmiVClh"
    },
    {
      "cell_type": "code",
      "execution_count": 26,
      "metadata": {
        "colab": {
          "base_uri": "https://localhost:8080/",
          "height": 288
        },
        "id": "ikIvje4SVEu8",
        "outputId": "1020bf0a-21b0-4612-9286-1c6ca3bd85f3"
      },
      "outputs": [
        {
          "output_type": "execute_result",
          "data": {
            "text/html": [
              "\n",
              "  <div id=\"df-21f02ecb-0205-4a6e-bf8b-4bb24dd57003\">\n",
              "    <div class=\"colab-df-container\">\n",
              "      <div>\n",
              "<style scoped>\n",
              "    .dataframe tbody tr th:only-of-type {\n",
              "        vertical-align: middle;\n",
              "    }\n",
              "\n",
              "    .dataframe tbody tr th {\n",
              "        vertical-align: top;\n",
              "    }\n",
              "\n",
              "    .dataframe thead th {\n",
              "        text-align: right;\n",
              "    }\n",
              "</style>\n",
              "<table border=\"1\" class=\"dataframe\">\n",
              "  <thead>\n",
              "    <tr style=\"text-align: right;\">\n",
              "      <th></th>\n",
              "      <th>Subject Focus</th>\n",
              "      <th>Eyes</th>\n",
              "      <th>Face</th>\n",
              "      <th>Near</th>\n",
              "      <th>Action</th>\n",
              "      <th>Accessory</th>\n",
              "      <th>Group</th>\n",
              "      <th>Collage</th>\n",
              "      <th>Human</th>\n",
              "      <th>Occlusion</th>\n",
              "      <th>Info</th>\n",
              "      <th>Blur</th>\n",
              "      <th>Pawpularity</th>\n",
              "      <th>path</th>\n",
              "      <th>horizontal</th>\n",
              "      <th>square</th>\n",
              "      <th>vertical</th>\n",
              "    </tr>\n",
              "  </thead>\n",
              "  <tbody>\n",
              "    <tr>\n",
              "      <th>0</th>\n",
              "      <td>0</td>\n",
              "      <td>0</td>\n",
              "      <td>1</td>\n",
              "      <td>1</td>\n",
              "      <td>0</td>\n",
              "      <td>0</td>\n",
              "      <td>0</td>\n",
              "      <td>0</td>\n",
              "      <td>0</td>\n",
              "      <td>0</td>\n",
              "      <td>0</td>\n",
              "      <td>1</td>\n",
              "      <td>50</td>\n",
              "      <td>/content/drive/MyDrive/kaggle/pawpularity/train/ebaaa8e384b3d2f0a56c7ff7675c154c.jpg</td>\n",
              "      <td>0</td>\n",
              "      <td>0</td>\n",
              "      <td>1</td>\n",
              "    </tr>\n",
              "    <tr>\n",
              "      <th>1</th>\n",
              "      <td>0</td>\n",
              "      <td>1</td>\n",
              "      <td>1</td>\n",
              "      <td>1</td>\n",
              "      <td>0</td>\n",
              "      <td>1</td>\n",
              "      <td>0</td>\n",
              "      <td>1</td>\n",
              "      <td>0</td>\n",
              "      <td>0</td>\n",
              "      <td>1</td>\n",
              "      <td>0</td>\n",
              "      <td>25</td>\n",
              "      <td>/content/drive/MyDrive/kaggle/pawpularity/train/25e3bf4267c2dc3f579b779418221bb7.jpg</td>\n",
              "      <td>0</td>\n",
              "      <td>1</td>\n",
              "      <td>0</td>\n",
              "    </tr>\n",
              "    <tr>\n",
              "      <th>2</th>\n",
              "      <td>0</td>\n",
              "      <td>0</td>\n",
              "      <td>1</td>\n",
              "      <td>1</td>\n",
              "      <td>0</td>\n",
              "      <td>1</td>\n",
              "      <td>0</td>\n",
              "      <td>0</td>\n",
              "      <td>0</td>\n",
              "      <td>0</td>\n",
              "      <td>0</td>\n",
              "      <td>0</td>\n",
              "      <td>27</td>\n",
              "      <td>/content/drive/MyDrive/kaggle/pawpularity/train/6548166fb3fda22b67881176397f0223.jpg</td>\n",
              "      <td>0</td>\n",
              "      <td>0</td>\n",
              "      <td>1</td>\n",
              "    </tr>\n",
              "    <tr>\n",
              "      <th>3</th>\n",
              "      <td>0</td>\n",
              "      <td>1</td>\n",
              "      <td>1</td>\n",
              "      <td>1</td>\n",
              "      <td>0</td>\n",
              "      <td>0</td>\n",
              "      <td>0</td>\n",
              "      <td>0</td>\n",
              "      <td>1</td>\n",
              "      <td>1</td>\n",
              "      <td>0</td>\n",
              "      <td>0</td>\n",
              "      <td>19</td>\n",
              "      <td>/content/drive/MyDrive/kaggle/pawpularity/train/472c40116e1833555715e4774445ae5b.jpg</td>\n",
              "      <td>0</td>\n",
              "      <td>0</td>\n",
              "      <td>1</td>\n",
              "    </tr>\n",
              "    <tr>\n",
              "      <th>4</th>\n",
              "      <td>0</td>\n",
              "      <td>1</td>\n",
              "      <td>1</td>\n",
              "      <td>1</td>\n",
              "      <td>0</td>\n",
              "      <td>0</td>\n",
              "      <td>0</td>\n",
              "      <td>1</td>\n",
              "      <td>0</td>\n",
              "      <td>0</td>\n",
              "      <td>0</td>\n",
              "      <td>0</td>\n",
              "      <td>27</td>\n",
              "      <td>/content/drive/MyDrive/kaggle/pawpularity/train/7b77e1a6d93667b575d57db83facd860.jpg</td>\n",
              "      <td>1</td>\n",
              "      <td>0</td>\n",
              "      <td>0</td>\n",
              "    </tr>\n",
              "  </tbody>\n",
              "</table>\n",
              "</div>\n",
              "      <button class=\"colab-df-convert\" onclick=\"convertToInteractive('df-21f02ecb-0205-4a6e-bf8b-4bb24dd57003')\"\n",
              "              title=\"Convert this dataframe to an interactive table.\"\n",
              "              style=\"display:none;\">\n",
              "        \n",
              "  <svg xmlns=\"http://www.w3.org/2000/svg\" height=\"24px\"viewBox=\"0 0 24 24\"\n",
              "       width=\"24px\">\n",
              "    <path d=\"M0 0h24v24H0V0z\" fill=\"none\"/>\n",
              "    <path d=\"M18.56 5.44l.94 2.06.94-2.06 2.06-.94-2.06-.94-.94-2.06-.94 2.06-2.06.94zm-11 1L8.5 8.5l.94-2.06 2.06-.94-2.06-.94L8.5 2.5l-.94 2.06-2.06.94zm10 10l.94 2.06.94-2.06 2.06-.94-2.06-.94-.94-2.06-.94 2.06-2.06.94z\"/><path d=\"M17.41 7.96l-1.37-1.37c-.4-.4-.92-.59-1.43-.59-.52 0-1.04.2-1.43.59L10.3 9.45l-7.72 7.72c-.78.78-.78 2.05 0 2.83L4 21.41c.39.39.9.59 1.41.59.51 0 1.02-.2 1.41-.59l7.78-7.78 2.81-2.81c.8-.78.8-2.07 0-2.86zM5.41 20L4 18.59l7.72-7.72 1.47 1.35L5.41 20z\"/>\n",
              "  </svg>\n",
              "      </button>\n",
              "      \n",
              "  <style>\n",
              "    .colab-df-container {\n",
              "      display:flex;\n",
              "      flex-wrap:wrap;\n",
              "      gap: 12px;\n",
              "    }\n",
              "\n",
              "    .colab-df-convert {\n",
              "      background-color: #E8F0FE;\n",
              "      border: none;\n",
              "      border-radius: 50%;\n",
              "      cursor: pointer;\n",
              "      display: none;\n",
              "      fill: #1967D2;\n",
              "      height: 32px;\n",
              "      padding: 0 0 0 0;\n",
              "      width: 32px;\n",
              "    }\n",
              "\n",
              "    .colab-df-convert:hover {\n",
              "      background-color: #E2EBFA;\n",
              "      box-shadow: 0px 1px 2px rgba(60, 64, 67, 0.3), 0px 1px 3px 1px rgba(60, 64, 67, 0.15);\n",
              "      fill: #174EA6;\n",
              "    }\n",
              "\n",
              "    [theme=dark] .colab-df-convert {\n",
              "      background-color: #3B4455;\n",
              "      fill: #D2E3FC;\n",
              "    }\n",
              "\n",
              "    [theme=dark] .colab-df-convert:hover {\n",
              "      background-color: #434B5C;\n",
              "      box-shadow: 0px 1px 3px 1px rgba(0, 0, 0, 0.15);\n",
              "      filter: drop-shadow(0px 1px 2px rgba(0, 0, 0, 0.3));\n",
              "      fill: #FFFFFF;\n",
              "    }\n",
              "  </style>\n",
              "\n",
              "      <script>\n",
              "        const buttonEl =\n",
              "          document.querySelector('#df-21f02ecb-0205-4a6e-bf8b-4bb24dd57003 button.colab-df-convert');\n",
              "        buttonEl.style.display =\n",
              "          google.colab.kernel.accessAllowed ? 'block' : 'none';\n",
              "\n",
              "        async function convertToInteractive(key) {\n",
              "          const element = document.querySelector('#df-21f02ecb-0205-4a6e-bf8b-4bb24dd57003');\n",
              "          const dataTable =\n",
              "            await google.colab.kernel.invokeFunction('convertToInteractive',\n",
              "                                                     [key], {});\n",
              "          if (!dataTable) return;\n",
              "\n",
              "          const docLinkHtml = 'Like what you see? Visit the ' +\n",
              "            '<a target=\"_blank\" href=https://colab.research.google.com/notebooks/data_table.ipynb>data table notebook</a>'\n",
              "            + ' to learn more about interactive tables.';\n",
              "          element.innerHTML = '';\n",
              "          dataTable['output_type'] = 'display_data';\n",
              "          await google.colab.output.renderOutput(dataTable, element);\n",
              "          const docLink = document.createElement('div');\n",
              "          docLink.innerHTML = docLinkHtml;\n",
              "          element.appendChild(docLink);\n",
              "        }\n",
              "      </script>\n",
              "    </div>\n",
              "  </div>\n",
              "  "
            ],
            "text/plain": [
              "   Subject Focus  Eyes  Face  Near  Action  Accessory  Group  Collage  Human  \\\n",
              "0              0     0     1     1       0          0      0        0      0   \n",
              "1              0     1     1     1       0          1      0        1      0   \n",
              "2              0     0     1     1       0          1      0        0      0   \n",
              "3              0     1     1     1       0          0      0        0      1   \n",
              "4              0     1     1     1       0          0      0        1      0   \n",
              "\n",
              "   Occlusion  Info  Blur  Pawpularity  \\\n",
              "0          0     0     1           50   \n",
              "1          0     1     0           25   \n",
              "2          0     0     0           27   \n",
              "3          1     0     0           19   \n",
              "4          0     0     0           27   \n",
              "\n",
              "                                                                                   path  \\\n",
              "0  /content/drive/MyDrive/kaggle/pawpularity/train/ebaaa8e384b3d2f0a56c7ff7675c154c.jpg   \n",
              "1  /content/drive/MyDrive/kaggle/pawpularity/train/25e3bf4267c2dc3f579b779418221bb7.jpg   \n",
              "2  /content/drive/MyDrive/kaggle/pawpularity/train/6548166fb3fda22b67881176397f0223.jpg   \n",
              "3  /content/drive/MyDrive/kaggle/pawpularity/train/472c40116e1833555715e4774445ae5b.jpg   \n",
              "4  /content/drive/MyDrive/kaggle/pawpularity/train/7b77e1a6d93667b575d57db83facd860.jpg   \n",
              "\n",
              "   horizontal  square  vertical  \n",
              "0           0       0         1  \n",
              "1           0       1         0  \n",
              "2           0       0         1  \n",
              "3           0       0         1  \n",
              "4           1       0         0  "
            ]
          },
          "metadata": {},
          "execution_count": 26
        }
      ],
      "source": [
        "# one hot encoding for the image size ratio label\n",
        "dummy_df = pd.get_dummies(train_df['image_ratio'])\n",
        "\n",
        "dummy_columns = ['horizontal', 'vertical', 'square']\n",
        "# if there is no horizontal or vertical in test_df columns, add the column with value 0\n",
        "for i in dummy_columns:\n",
        "  if i not in dummy_df.columns:\n",
        "    train_df[i] = 0\n",
        "\n",
        "train_df = train_df.merge(dummy_df, left_index=True, right_index=True)\n",
        "\n",
        "# drop unnecessary image related columns \n",
        "train_df = train_df.drop(columns=['img_size', 'img_width', 'img_height', 'image_ratio'])\n",
        "train_df.head()"
      ],
      "id": "ikIvje4SVEu8"
    },
    {
      "cell_type": "code",
      "execution_count": 27,
      "metadata": {
        "colab": {
          "base_uri": "https://localhost:8080/"
        },
        "id": "JZS3LvMgVHC5",
        "outputId": "2b9bcb2d-6e06-433b-b813-ba6c67b48f98"
      },
      "outputs": [
        {
          "output_type": "stream",
          "name": "stderr",
          "text": [
            "100%|██████████| 8/8 [00:00<00:00, 436.05it/s]\n"
          ]
        }
      ],
      "source": [
        "# create empty columns to store values in the next iteration\n",
        "test_df['img_width']= 0\n",
        "test_df['img_height'] = 0\n",
        "    \n",
        "# count each image size\n",
        "for i in tqdm(range(len(test_df))):\n",
        "  # open method used to open different extension image file\n",
        "  im = Image.open(test_df[\"path\"][i]) \n",
        "  width, height = im.size\n",
        "  \n",
        "  # add each image's width, height and image size columns to test_df\n",
        "  test_df.loc[i, 'img_width'] = width\n",
        "  test_df.loc[i, 'img_height'] = height\n",
        "\n",
        "test_df['image_ratio'] = test_df.apply(find_image_ratio, axis=1)"
      ],
      "id": "JZS3LvMgVHC5"
    },
    {
      "cell_type": "code",
      "execution_count": 28,
      "metadata": {
        "colab": {
          "base_uri": "https://localhost:8080/",
          "height": 288
        },
        "id": "wiifTsIxVeSp",
        "outputId": "28d71272-8c24-4bac-ab8c-d49b28a49d85"
      },
      "outputs": [
        {
          "output_type": "execute_result",
          "data": {
            "text/html": [
              "\n",
              "  <div id=\"df-e00d829d-206b-4198-a827-d572fb2fe894\">\n",
              "    <div class=\"colab-df-container\">\n",
              "      <div>\n",
              "<style scoped>\n",
              "    .dataframe tbody tr th:only-of-type {\n",
              "        vertical-align: middle;\n",
              "    }\n",
              "\n",
              "    .dataframe tbody tr th {\n",
              "        vertical-align: top;\n",
              "    }\n",
              "\n",
              "    .dataframe thead th {\n",
              "        text-align: right;\n",
              "    }\n",
              "</style>\n",
              "<table border=\"1\" class=\"dataframe\">\n",
              "  <thead>\n",
              "    <tr style=\"text-align: right;\">\n",
              "      <th></th>\n",
              "      <th>Subject Focus</th>\n",
              "      <th>Eyes</th>\n",
              "      <th>Face</th>\n",
              "      <th>Near</th>\n",
              "      <th>Action</th>\n",
              "      <th>Accessory</th>\n",
              "      <th>Group</th>\n",
              "      <th>Collage</th>\n",
              "      <th>Human</th>\n",
              "      <th>Occlusion</th>\n",
              "      <th>Info</th>\n",
              "      <th>Blur</th>\n",
              "      <th>path</th>\n",
              "      <th>Pawpularity</th>\n",
              "      <th>square</th>\n",
              "      <th>horizontal</th>\n",
              "      <th>vertical</th>\n",
              "    </tr>\n",
              "  </thead>\n",
              "  <tbody>\n",
              "    <tr>\n",
              "      <th>0</th>\n",
              "      <td>1</td>\n",
              "      <td>0</td>\n",
              "      <td>1</td>\n",
              "      <td>0</td>\n",
              "      <td>0</td>\n",
              "      <td>1</td>\n",
              "      <td>1</td>\n",
              "      <td>0</td>\n",
              "      <td>0</td>\n",
              "      <td>1</td>\n",
              "      <td>0</td>\n",
              "      <td>1</td>\n",
              "      <td>/content/drive/MyDrive/kaggle/pawpularity/test/4128bae22183829d2b5fea10effdb0c3.jpg</td>\n",
              "      <td>1</td>\n",
              "      <td>1</td>\n",
              "      <td>0</td>\n",
              "      <td>0</td>\n",
              "    </tr>\n",
              "    <tr>\n",
              "      <th>1</th>\n",
              "      <td>0</td>\n",
              "      <td>1</td>\n",
              "      <td>0</td>\n",
              "      <td>0</td>\n",
              "      <td>0</td>\n",
              "      <td>0</td>\n",
              "      <td>1</td>\n",
              "      <td>1</td>\n",
              "      <td>0</td>\n",
              "      <td>0</td>\n",
              "      <td>0</td>\n",
              "      <td>0</td>\n",
              "      <td>/content/drive/MyDrive/kaggle/pawpularity/test/43a2262d7738e3d420d453815151079e.jpg</td>\n",
              "      <td>1</td>\n",
              "      <td>1</td>\n",
              "      <td>0</td>\n",
              "      <td>0</td>\n",
              "    </tr>\n",
              "    <tr>\n",
              "      <th>2</th>\n",
              "      <td>0</td>\n",
              "      <td>0</td>\n",
              "      <td>0</td>\n",
              "      <td>1</td>\n",
              "      <td>0</td>\n",
              "      <td>1</td>\n",
              "      <td>1</td>\n",
              "      <td>1</td>\n",
              "      <td>0</td>\n",
              "      <td>1</td>\n",
              "      <td>1</td>\n",
              "      <td>1</td>\n",
              "      <td>/content/drive/MyDrive/kaggle/pawpularity/test/4e429cead1848a298432a0acad014c9d.jpg</td>\n",
              "      <td>1</td>\n",
              "      <td>1</td>\n",
              "      <td>0</td>\n",
              "      <td>0</td>\n",
              "    </tr>\n",
              "    <tr>\n",
              "      <th>3</th>\n",
              "      <td>1</td>\n",
              "      <td>0</td>\n",
              "      <td>1</td>\n",
              "      <td>0</td>\n",
              "      <td>0</td>\n",
              "      <td>0</td>\n",
              "      <td>0</td>\n",
              "      <td>0</td>\n",
              "      <td>0</td>\n",
              "      <td>0</td>\n",
              "      <td>1</td>\n",
              "      <td>0</td>\n",
              "      <td>/content/drive/MyDrive/kaggle/pawpularity/test/80bc3ccafcc51b66303c2c263aa38486.jpg</td>\n",
              "      <td>1</td>\n",
              "      <td>1</td>\n",
              "      <td>0</td>\n",
              "      <td>0</td>\n",
              "    </tr>\n",
              "    <tr>\n",
              "      <th>4</th>\n",
              "      <td>1</td>\n",
              "      <td>1</td>\n",
              "      <td>1</td>\n",
              "      <td>0</td>\n",
              "      <td>1</td>\n",
              "      <td>1</td>\n",
              "      <td>0</td>\n",
              "      <td>1</td>\n",
              "      <td>0</td>\n",
              "      <td>1</td>\n",
              "      <td>1</td>\n",
              "      <td>0</td>\n",
              "      <td>/content/drive/MyDrive/kaggle/pawpularity/test/8f49844c382931444e68dffbe20228f4.jpg</td>\n",
              "      <td>1</td>\n",
              "      <td>1</td>\n",
              "      <td>0</td>\n",
              "      <td>0</td>\n",
              "    </tr>\n",
              "  </tbody>\n",
              "</table>\n",
              "</div>\n",
              "      <button class=\"colab-df-convert\" onclick=\"convertToInteractive('df-e00d829d-206b-4198-a827-d572fb2fe894')\"\n",
              "              title=\"Convert this dataframe to an interactive table.\"\n",
              "              style=\"display:none;\">\n",
              "        \n",
              "  <svg xmlns=\"http://www.w3.org/2000/svg\" height=\"24px\"viewBox=\"0 0 24 24\"\n",
              "       width=\"24px\">\n",
              "    <path d=\"M0 0h24v24H0V0z\" fill=\"none\"/>\n",
              "    <path d=\"M18.56 5.44l.94 2.06.94-2.06 2.06-.94-2.06-.94-.94-2.06-.94 2.06-2.06.94zm-11 1L8.5 8.5l.94-2.06 2.06-.94-2.06-.94L8.5 2.5l-.94 2.06-2.06.94zm10 10l.94 2.06.94-2.06 2.06-.94-2.06-.94-.94-2.06-.94 2.06-2.06.94z\"/><path d=\"M17.41 7.96l-1.37-1.37c-.4-.4-.92-.59-1.43-.59-.52 0-1.04.2-1.43.59L10.3 9.45l-7.72 7.72c-.78.78-.78 2.05 0 2.83L4 21.41c.39.39.9.59 1.41.59.51 0 1.02-.2 1.41-.59l7.78-7.78 2.81-2.81c.8-.78.8-2.07 0-2.86zM5.41 20L4 18.59l7.72-7.72 1.47 1.35L5.41 20z\"/>\n",
              "  </svg>\n",
              "      </button>\n",
              "      \n",
              "  <style>\n",
              "    .colab-df-container {\n",
              "      display:flex;\n",
              "      flex-wrap:wrap;\n",
              "      gap: 12px;\n",
              "    }\n",
              "\n",
              "    .colab-df-convert {\n",
              "      background-color: #E8F0FE;\n",
              "      border: none;\n",
              "      border-radius: 50%;\n",
              "      cursor: pointer;\n",
              "      display: none;\n",
              "      fill: #1967D2;\n",
              "      height: 32px;\n",
              "      padding: 0 0 0 0;\n",
              "      width: 32px;\n",
              "    }\n",
              "\n",
              "    .colab-df-convert:hover {\n",
              "      background-color: #E2EBFA;\n",
              "      box-shadow: 0px 1px 2px rgba(60, 64, 67, 0.3), 0px 1px 3px 1px rgba(60, 64, 67, 0.15);\n",
              "      fill: #174EA6;\n",
              "    }\n",
              "\n",
              "    [theme=dark] .colab-df-convert {\n",
              "      background-color: #3B4455;\n",
              "      fill: #D2E3FC;\n",
              "    }\n",
              "\n",
              "    [theme=dark] .colab-df-convert:hover {\n",
              "      background-color: #434B5C;\n",
              "      box-shadow: 0px 1px 3px 1px rgba(0, 0, 0, 0.15);\n",
              "      filter: drop-shadow(0px 1px 2px rgba(0, 0, 0, 0.3));\n",
              "      fill: #FFFFFF;\n",
              "    }\n",
              "  </style>\n",
              "\n",
              "      <script>\n",
              "        const buttonEl =\n",
              "          document.querySelector('#df-e00d829d-206b-4198-a827-d572fb2fe894 button.colab-df-convert');\n",
              "        buttonEl.style.display =\n",
              "          google.colab.kernel.accessAllowed ? 'block' : 'none';\n",
              "\n",
              "        async function convertToInteractive(key) {\n",
              "          const element = document.querySelector('#df-e00d829d-206b-4198-a827-d572fb2fe894');\n",
              "          const dataTable =\n",
              "            await google.colab.kernel.invokeFunction('convertToInteractive',\n",
              "                                                     [key], {});\n",
              "          if (!dataTable) return;\n",
              "\n",
              "          const docLinkHtml = 'Like what you see? Visit the ' +\n",
              "            '<a target=\"_blank\" href=https://colab.research.google.com/notebooks/data_table.ipynb>data table notebook</a>'\n",
              "            + ' to learn more about interactive tables.';\n",
              "          element.innerHTML = '';\n",
              "          dataTable['output_type'] = 'display_data';\n",
              "          await google.colab.output.renderOutput(dataTable, element);\n",
              "          const docLink = document.createElement('div');\n",
              "          docLink.innerHTML = docLinkHtml;\n",
              "          element.appendChild(docLink);\n",
              "        }\n",
              "      </script>\n",
              "    </div>\n",
              "  </div>\n",
              "  "
            ],
            "text/plain": [
              "   Subject Focus  Eyes  Face  Near  Action  Accessory  Group  Collage  Human  \\\n",
              "0              1     0     1     0       0          1      1        0      0   \n",
              "1              0     1     0     0       0          0      1        1      0   \n",
              "2              0     0     0     1       0          1      1        1      0   \n",
              "3              1     0     1     0       0          0      0        0      0   \n",
              "4              1     1     1     0       1          1      0        1      0   \n",
              "\n",
              "   Occlusion  Info  Blur  \\\n",
              "0          1     0     1   \n",
              "1          0     0     0   \n",
              "2          1     1     1   \n",
              "3          0     1     0   \n",
              "4          1     1     0   \n",
              "\n",
              "                                                                                  path  \\\n",
              "0  /content/drive/MyDrive/kaggle/pawpularity/test/4128bae22183829d2b5fea10effdb0c3.jpg   \n",
              "1  /content/drive/MyDrive/kaggle/pawpularity/test/43a2262d7738e3d420d453815151079e.jpg   \n",
              "2  /content/drive/MyDrive/kaggle/pawpularity/test/4e429cead1848a298432a0acad014c9d.jpg   \n",
              "3  /content/drive/MyDrive/kaggle/pawpularity/test/80bc3ccafcc51b66303c2c263aa38486.jpg   \n",
              "4  /content/drive/MyDrive/kaggle/pawpularity/test/8f49844c382931444e68dffbe20228f4.jpg   \n",
              "\n",
              "   Pawpularity  square  horizontal  vertical  \n",
              "0            1       1           0         0  \n",
              "1            1       1           0         0  \n",
              "2            1       1           0         0  \n",
              "3            1       1           0         0  \n",
              "4            1       1           0         0  "
            ]
          },
          "metadata": {},
          "execution_count": 28
        }
      ],
      "source": [
        "# one hot encoding for the image size ratio label\n",
        "dummy_df = pd.get_dummies(test_df['image_ratio'])\n",
        "\n",
        "# if there is no horizontal or vertical in test_df columns, add the column with value 0\n",
        "for i in dummy_columns:\n",
        "  if i not in dummy_df.columns:\n",
        "    dummy_df[i] = 0\n",
        "\n",
        "test_df = test_df.merge(dummy_df, left_index=True, right_index=True)\n",
        "\n",
        "# drop unnecessary image related columns \n",
        "test_df = test_df.drop(columns=['img_width', 'img_height', 'image_ratio'])\n",
        "test_df.head()"
      ],
      "id": "wiifTsIxVeSp"
    },
    {
      "cell_type": "code",
      "execution_count": 29,
      "metadata": {
        "colab": {
          "base_uri": "https://localhost:8080/"
        },
        "id": "3665966c",
        "outputId": "e0ac70e3-f35f-4647-e06b-34b936412a8d"
      },
      "outputs": [
        {
          "output_type": "execute_result",
          "data": {
            "text/plain": [
              "0    0.50\n",
              "1    0.25\n",
              "2    0.27\n",
              "3    0.19\n",
              "4    0.27\n",
              "Name: norm_score, dtype: float64"
            ]
          },
          "metadata": {},
          "execution_count": 29
        }
      ],
      "source": [
        "# normalize pawpularity score\n",
        "train_df['norm_score'] = train_df['Pawpularity'] / 100\n",
        "train_df['norm_score'].head()"
      ],
      "id": "3665966c"
    },
    {
      "cell_type": "code",
      "execution_count": 30,
      "metadata": {
        "id": "jxfAx-13B_Mi"
      },
      "outputs": [],
      "source": [
        "if not os.path.exists('/root/.cache/torch/hub/checkpoints/'):\n",
        "    os.makedirs('/root/.cache/torch/hub/checkpoints/')\n",
        "    \n",
        "if USE_COLAB:\n",
        "  !cp '/content/drive/MyDrive/kaggle/pawpularity/Swin Transformer/swin_large_patch4_window7_224_22kto1k.pth' '/root/.cache/torch/hub/checkpoints/swin_large_patch4_window7_224_22kto1k.pth'\n",
        "else:\n",
        "  !cp '../input/swin-transformer/swin_large_patch4_window7_224_22kto1k.pth' '/root/.cache/torch/hub/checkpoints/swin_large_patch4_window7_224_22kto1k.pth'\n"
      ],
      "id": "jxfAx-13B_Mi"
    },
    {
      "cell_type": "code",
      "execution_count": 31,
      "metadata": {
        "id": "f0400f35"
      },
      "outputs": [],
      "source": [
        "# seed for reproducibility in model\n",
        "set_seed(SEED, reproducible=True)\n",
        "torch.manual_seed(SEED)\n",
        "torch.cuda.manual_seed(SEED)\n",
        "torch.backends.cudnn.deterministic = True\n",
        "torch.use_deterministic_algorithms = True"
      ],
      "id": "f0400f35"
    },
    {
      "cell_type": "code",
      "execution_count": 32,
      "metadata": {
        "colab": {
          "base_uri": "https://localhost:8080/"
        },
        "id": "8d1182d1",
        "outputId": "aadad321-77ab-4a22-e720-15171f031fdc"
      },
      "outputs": [
        {
          "output_type": "stream",
          "name": "stdout",
          "text": [
            "45\n"
          ]
        }
      ],
      "source": [
        "# Sturges’ Rule to decide optimal bin size for histogram \n",
        "num_bins = int(np.floor(1+(3.322)*(np.log2(len(train_df)))))\n",
        "print(num_bins)"
      ],
      "id": "8d1182d1"
    },
    {
      "cell_type": "code",
      "execution_count": 33,
      "metadata": {
        "colab": {
          "base_uri": "https://localhost:8080/",
          "height": 285
        },
        "id": "d8ac8d96",
        "outputId": "42487b67-7697-44c2-bab8-88ab8849832c"
      },
      "outputs": [
        {
          "output_type": "execute_result",
          "data": {
            "text/plain": [
              "<matplotlib.axes._subplots.AxesSubplot at 0x7fe7ff5385d0>"
            ]
          },
          "metadata": {},
          "execution_count": 33
        },
        {
          "output_type": "display_data",
          "data": {
            "image/png": "[encoded data removed]",
            "text/plain": [
              "<Figure size 432x288 with 1 Axes>"
            ]
          },
          "metadata": {}
        }
      ],
      "source": [
        "train_df['bins'] = pd.cut(train_df['norm_score'], bins=num_bins, labels=False)\n",
        "train_df['bins'].hist()"
      ],
      "id": "d8ac8d96"
    },
    {
      "cell_type": "code",
      "execution_count": 34,
      "metadata": {
        "colab": {
          "base_uri": "https://localhost:8080/",
          "height": 282
        },
        "id": "f7b39218",
        "outputId": "51f1c6d7-956c-44c5-e7ce-76bc0892c788"
      },
      "outputs": [
        {
          "output_type": "execute_result",
          "data": {
            "text/plain": [
              "<matplotlib.axes._subplots.AxesSubplot at 0x7fe7ff4b60d0>"
            ]
          },
          "metadata": {},
          "execution_count": 34
        },
        {
          "output_type": "display_data",
          "data": {
            "image/png": "[encoded data removed]",
            "text/plain": [
              "<Figure size 432x288 with 1 Axes>"
            ]
          },
          "metadata": {}
        }
      ],
      "source": [
        "train_df['fold'] = -1\n",
        "\n",
        "N_FOLDS = 10\n",
        "strat_kfold = StratifiedKFold(n_splits=N_FOLDS, random_state=SEED, shuffle=True)\n",
        "for i, (_, train_index) in enumerate(strat_kfold.split(train_df.index, train_df['bins'])):\n",
        "    train_df.iloc[train_index, -1] = i\n",
        "    \n",
        "train_df['fold'] = train_df['fold'].astype('int')\n",
        "\n",
        "train_df.fold.value_counts().sort_index().plot.bar()"
      ],
      "id": "f7b39218"
    },
    {
      "cell_type": "code",
      "execution_count": 35,
      "metadata": {
        "colab": {
          "base_uri": "https://localhost:8080/"
        },
        "id": "d2715076",
        "outputId": "6ad1a4c7-b24c-49cd-8445-e49f0a0f8e09"
      },
      "outputs": [
        {
          "output_type": "execute_result",
          "data": {
            "text/plain": [
              "10    79\n",
              "15    72\n",
              "13    63\n",
              "11    62\n",
              "12    62\n",
              "14    53\n",
              "9     44\n",
              "16    41\n",
              "20    37\n",
              "17    37\n",
              "18    36\n",
              "8     32\n",
              "44    30\n",
              "7     28\n",
              "19    28\n",
              "21    23\n",
              "5     21\n",
              "25    20\n",
              "22    19\n",
              "0     17\n",
              "24    16\n",
              "23    16\n",
              "6     16\n",
              "26    13\n",
              "28    12\n",
              "29    10\n",
              "30     9\n",
              "27     9\n",
              "4      8\n",
              "31     8\n",
              "3      8\n",
              "1      7\n",
              "32     6\n",
              "33     6\n",
              "34     6\n",
              "35     6\n",
              "2      6\n",
              "36     4\n",
              "40     4\n",
              "39     4\n",
              "37     4\n",
              "41     3\n",
              "38     3\n",
              "43     2\n",
              "42     2\n",
              "Name: bins, dtype: int64"
            ]
          },
          "metadata": {},
          "execution_count": 35
        }
      ],
      "source": [
        "train_df[train_df['fold']==0]['bins'].value_counts()"
      ],
      "id": "d2715076"
    },
    {
      "cell_type": "markdown",
      "metadata": {
        "id": "C3nxXkZQB365"
      },
      "source": [
        "# Create a Model"
      ],
      "id": "C3nxXkZQB365"
    },
    {
      "cell_type": "code",
      "execution_count": 36,
      "metadata": {
        "id": "48f434d7"
      },
      "outputs": [],
      "source": [
        "def petfinder_rmse(input,target):\n",
        "    return 100*torch.sqrt(F.mse_loss(F.sigmoid(input.flatten()), target))"
      ],
      "id": "48f434d7"
    },
    {
      "cell_type": "code",
      "execution_count": 37,
      "metadata": {
        "colab": {
          "base_uri": "https://localhost:8080/"
        },
        "id": "3e11d0aa",
        "outputId": "3dba3d98-6e70-4210-e043-28a96e5f0376"
      },
      "outputs": [
        {
          "output_type": "stream",
          "name": "stdout",
          "text": [
            "meta len: 15\n"
          ]
        }
      ],
      "source": [
        "USE_META = False\n",
        "\n",
        "# augmentaion to apply when loading image data\n",
        "augmentation = [Flip(), Brightness(), Contrast(), Hue(), Saturation()]\n",
        "\n",
        "meta_target = train_df.drop(['norm_score','Pawpularity','path', 'fold', 'bins'],1).keys().tolist()\n",
        "print(\"meta len:\",len(meta_target))\n",
        "\n",
        "def get_data(fold: int) -> fastai.data.core.DataLoaders:\n",
        "    \"\"\"\n",
        "    get data for only given fold number and load the data into fastai dataloader\n",
        "    and return it\n",
        "    \"\"\"\n",
        "    train_df_f = train_df.copy()\n",
        "    # add is_valid for validation fold\n",
        "    train_df_f['is_valid'] = (train_df_f['fold'] == fold)\n",
        "    \n",
        "    dls = ImageDataLoaders.from_df(train_df_f, \n",
        "                                    valid_pct=0.2, #80-20 train-validation random split\n",
        "                                    valid_col='is_valid', \n",
        "                                    seed=SEED, \n",
        "                                    fn_col='path', #filename/path is in the second column of the DataFrame\n",
        "                                    label_col='norm_score', #label is in the first column of the DataFrame\n",
        "                                    y_block=RegressionBlock, #The type of target\n",
        "                                    bs=BATCH_SIZE, \n",
        "                                    num_workers=NUM_WORKERS,\n",
        "                                    item_tfms=Resize(IMAGE_SIZE), \n",
        "                                    batch_tfms=setup_aug_tfms(augmentation))  \n",
        "    return dls"
      ],
      "id": "3e11d0aa"
    },
    {
      "cell_type": "code",
      "source": [
        "# USE_META = False\n",
        "\n",
        "# # augmentaion to apply when loading image data\n",
        "# augmentation = [Flip(), Brightness(), Contrast(), Hue(), Saturation()]\n",
        "\n",
        "# meta_target = train_df.drop(['norm_score','Pawpularity','path', 'fold', 'bins'],1).keys().tolist()\n",
        "# print(\"meta len:\",len(meta_target))\n",
        "\n",
        "# def get_data(fold: int) -> fastai.data.core.DataLoaders:\n",
        "#     \"\"\"\n",
        "#     get data for only given fold number and load the data into fastai dataloader\n",
        "#     and return it\n",
        "#     \"\"\"\n",
        "#     train_df_f = train_df.copy()\n",
        "#     # add is_valid for validation fold\n",
        "#     train_df_f['is_valid'] = (train_df_f['fold'] == fold)\n",
        "    \n",
        "#     paw_block = DataBlock(blocks = (ImageBlock, RegressionBlock) ,  # input/ output\n",
        "#                         get_x = [ColReader('path')], \n",
        "#                         get_y = ColReader('norm_score') , \n",
        "#                         item_tfms = Resize(IMAGE_SIZE), \n",
        "#                         batch_tfms = setup_aug_tfms(augmentation))\n",
        "\n",
        "#     dls = paw_block.dataloaders(train_df_f, \n",
        "#                                 batch_size=BATCH_SIZE, \n",
        "#                                 y_block=RegressionBlock, \n",
        "#                                 num_workers=NUM_WORKERS)\n",
        "    \n",
        "#     return dls"
      ],
      "metadata": {
        "id": "yvGhictBtmnr"
      },
      "id": "yvGhictBtmnr",
      "execution_count": 38,
      "outputs": []
    },
    {
      "cell_type": "code",
      "execution_count": 39,
      "metadata": {
        "id": "QGG2Vwh_Hh01"
      },
      "outputs": [],
      "source": [
        "# in colab, change the path to avoid error in the below cell\n",
        "if USE_COLAB:\n",
        "  os. chdir('../')"
      ],
      "id": "QGG2Vwh_Hh01"
    },
    {
      "cell_type": "code",
      "execution_count": 40,
      "metadata": {
        "colab": {
          "base_uri": "https://localhost:8080/"
        },
        "id": "3053b7b3",
        "outputId": "1326a860-355e-4582-b027-3c8abeb95c10"
      },
      "outputs": [
        {
          "output_type": "stream",
          "name": "stdout",
          "text": [
            "finished\n"
          ]
        }
      ],
      "source": [
        "#Valid Kfolder size\n",
        "the_data = get_data(0)\n",
        "print('finished')\n",
        "assert (len(the_data.train) + len(the_data.valid)) == (len(train_df)//BATCH_SIZE)"
      ],
      "id": "3053b7b3"
    },
    {
      "cell_type": "code",
      "execution_count": 41,
      "metadata": {
        "colab": {
          "base_uri": "https://localhost:8080/"
        },
        "id": "6creNTBuGx__",
        "outputId": "8a8639bf-9da4-43db-a3c9-4d7b2426879d"
      },
      "outputs": [
        {
          "output_type": "execute_result",
          "data": {
            "text/plain": [
              "fastai.data.core.DataLoaders"
            ]
          },
          "metadata": {},
          "execution_count": 41
        }
      ],
      "source": [
        "the_data = get_data(0)\n",
        "type(the_data)"
      ],
      "id": "6creNTBuGx__"
    },
    {
      "cell_type": "code",
      "execution_count": 42,
      "metadata": {
        "id": "83b023a3"
      },
      "outputs": [],
      "source": [
        "# class PawpularModel(nn.Module):\n",
        "#     def __init__(self, model_name='swin_large_patch4_window7_224', \n",
        "#                  num_classes=[17,1], n_meta_dim=[256, 128], pretrained=True):\n",
        "#         super().__init__()\n",
        "#         out_dim=num_classes[1]\n",
        "#         n_meta_features=num_classes[0]\n",
        "#         self.n_meta_features = n_meta_features\n",
        "#         self.enet = create_model(model_name, pretrained=True, in_chans=3)\n",
        "#         self.dropouts = nn.ModuleList([nn.Dropout(0.5) for _ in range(5)])\n",
        "#         in_ch = self.enet.head.in_features\n",
        "\n",
        "#         if n_meta_features > 0:\n",
        "#             self.meta = nn.Sequential(\n",
        "#                 nn.Linear(n_meta_features, n_meta_dim[0]),\n",
        "#                 nn.BatchNorm1d(n_meta_dim[0]),\n",
        "#                 nn.SiLU(),\n",
        "#                 nn.Dropout(p=0.3),\n",
        "#                 nn.Linear(n_meta_dim[0], n_meta_dim[1]),\n",
        "#                 nn.BatchNorm1d(n_meta_dim[1]),\n",
        "#                 nn.SiLU(),\n",
        "#             )\n",
        "\n",
        "#             in_ch += n_meta_dim[1]\n",
        "#         self.myfc = nn.Linear(in_ch, out_dim)\n",
        "#         self.enet.head = nn.Identity()\n",
        "\n",
        "\n",
        "#     def extract(self, x):\n",
        "#         x = self.enet(x)\n",
        "#         return x\n",
        "\n",
        "\n",
        "#     def forward(self, image, features):\n",
        "#         x = self.extract(image).squeeze(-1).squeeze(-1)\n",
        "#         if self.n_meta_features > 0:\n",
        "#             x_meta = self.meta(features)\n",
        "#             x = torch.cat((x, x_meta), dim=1)\n",
        "#         for i, dropout in enumerate(self.dropouts):\n",
        "#             if i == 0:\n",
        "#                 out = self.myfc(dropout(x))\n",
        "#             else:\n",
        "#                 out += self.myfc(dropout(x))\n",
        "#         out /= len(self.dropouts)\n",
        "#         return out"
      ],
      "id": "83b023a3"
    },
    {
      "cell_type": "code",
      "execution_count": 43,
      "metadata": {
        "id": "iisqBPsbCIF-"
      },
      "outputs": [],
      "source": [
        "def get_learner(fold_num):\n",
        "    data = get_data(fold_num)\n",
        "    \n",
        "    model = create_model(MODEL_NAME, \n",
        "                         pretrained=True, \n",
        "                         num_classes=data.c)\n",
        "\n",
        "    learn = Learner(data, model, loss_func=BCEWithLogitsLossFlat(), \n",
        "                    metrics=petfinder_rmse).to_fp16()\n",
        "    \n",
        "    return learn"
      ],
      "id": "iisqBPsbCIF-"
    },
    {
      "cell_type": "code",
      "execution_count": 44,
      "metadata": {
        "id": "dBy9-U1-FBZU"
      },
      "outputs": [],
      "source": [
        "# config to use trained model in google colab or train a model in kaggle notebook\n",
        "USE_PRETRAINED = False\n",
        "\n",
        "#if not USE_PRETRAINED:\n",
        "    # plot how learning rate affects loss. Get the bottom of the slope and steepest point\n",
        "    # lr_min,lr_steep = get_learner(fold_num=0).lr_find(end_lr=1e-2)\n",
        "    # res = get_learner(fold_num=0).lr_find(end_lr=1e-2)\n",
        "    "
      ],
      "id": "dBy9-U1-FBZU"
    },
    {
      "cell_type": "code",
      "execution_count": null,
      "metadata": {
        "id": "r0_-kubRru2r",
        "colab": {
          "base_uri": "https://localhost:8080/",
          "height": 167
        },
        "outputId": "93c281d2-887a-4dd1-f93f-a473769f2795"
      },
      "outputs": [
        {
          "output_type": "stream",
          "name": "stdout",
          "text": [
            "Fold 0 results\n"
          ]
        },
        {
          "output_type": "stream",
          "name": "stderr",
          "text": [
            "/usr/local/lib/python3.7/dist-packages/torch/functional.py:445: UserWarning: torch.meshgrid: in an upcoming release, it will be required to pass the indexing argument. (Triggered internally at  ../aten/src/ATen/native/TensorShape.cpp:2157.)\n",
            "  return _VF.meshgrid(tensors, **kwargs)  # type: ignore[attr-defined]\n"
          ]
        },
        {
          "output_type": "display_data",
          "data": {
            "text/html": [
              "\n",
              "    <div>\n",
              "        <style>\n",
              "            /* Turns off some styling */\n",
              "            progress {\n",
              "                /* gets rid of default border in Firefox and Opera. */\n",
              "                border: none;\n",
              "                /* Needs to be in here for Safari polyfill so background images work as expected. */\n",
              "                background-size: auto;\n",
              "            }\n",
              "            .progress-bar-interrupted, .progress-bar-interrupted::-webkit-progress-bar {\n",
              "                background: #F44336;\n",
              "            }\n",
              "        </style>\n",
              "      <progress value='0' class='' max='3' style='width:300px; height:20px; vertical-align: middle;'></progress>\n",
              "      0.00% [0/3 00:00<00:00]\n",
              "    </div>\n",
              "    \n",
              "<table border=\"1\" class=\"dataframe\">\n",
              "  <thead>\n",
              "    <tr style=\"text-align: left;\">\n",
              "      <th>epoch</th>\n",
              "      <th>train_loss</th>\n",
              "      <th>valid_loss</th>\n",
              "      <th>petfinder_rmse</th>\n",
              "      <th>time</th>\n",
              "    </tr>\n",
              "  </thead>\n",
              "  <tbody>\n",
              "  </tbody>\n",
              "</table><p>\n",
              "\n",
              "    <div>\n",
              "        <style>\n",
              "            /* Turns off some styling */\n",
              "            progress {\n",
              "                /* gets rid of default border in Firefox and Opera. */\n",
              "                border: none;\n",
              "                /* Needs to be in here for Safari polyfill so background images work as expected. */\n",
              "                background-size: auto;\n",
              "            }\n",
              "            .progress-bar-interrupted, .progress-bar-interrupted::-webkit-progress-bar {\n",
              "                background: #F44336;\n",
              "            }\n",
              "        </style>\n",
              "      <progress value='319' class='' max='1115' style='width:300px; height:20px; vertical-align: middle;'></progress>\n",
              "      28.61% [319/1115 02:18<05:44 0.6602]\n",
              "    </div>\n",
              "    "
            ],
            "text/plain": [
              "<IPython.core.display.HTML object>"
            ]
          },
          "metadata": {}
        }
      ],
      "source": [
        "%%time\n",
        "# params\n",
        "FINETUNE = True\n",
        "EPOCHS = 3\n",
        "FINETUNE_EPOCHS = 3\n",
        "\n",
        "# empty list to store predicted score\n",
        "all_preds = []\n",
        "\n",
        "for i in range(N_FOLDS):\n",
        "    print(f'Fold {i} results')\n",
        "    \n",
        "    # if USE_PRETRAINED is True, use the model trained in google colab\n",
        "    if USE_PRETRAINED:\n",
        "        # Change the model path accordingly depending on colab or kaggle\n",
        "        if not USE_COLAB:\n",
        "            # model path for kaggle environment (kaggle dataset)\n",
        "            model_path = Path(f'../input/paw-model-20211229-v2/model_fold_{i}.pkl')\n",
        "        else:\n",
        "            # model path for google colab (stored in google drive)\n",
        "            model_path = Path(f'/content/drive/MyDrive/kaggle/pawpularity/model/model_fold_{i}.pkl')\n",
        "\n",
        "        learn = load_learner(model_path, cpu=False)\n",
        "        learn.model = learn.model.cuda()\n",
        "        learn.dls.to('cuda')\n",
        "\n",
        "    else:\n",
        "        # train in google colab environment (takes time)\n",
        "        model_path = os.path.join(dataset_path, f'model/model_fold_{i}.pkl')\n",
        "        learn = get_learner(fold_num=i)\n",
        "\n",
        "        # train the last layer group\n",
        "        learn.fit_one_cycle(EPOCHS, \n",
        "                            2e-5, \n",
        "                            cbs=[SaveModelCallback(), \n",
        "                                 EarlyStoppingCallback(monitor='petfinder_rmse', \n",
        "                                                       comp=np.less, \n",
        "                                                       patience=2)]) \n",
        "        \n",
        "        if i == 0:\n",
        "            learn.lr_find()\n",
        "\n",
        "        # finetune the model based on Jason Yosinski's adoptive learning rate idea\n",
        "        # implement low lr for initinal layer & high lr for last layer\n",
        "        if FINETUNE:\n",
        "            learn.unfreeze()\n",
        "            print(f'Fold {i} fine-tune')   \n",
        "            learn.fit_one_cycle(FINETUNE_EPOCHS, \n",
        "                                lr_max=slice(1e-6, 1e-4), \n",
        "                                cbs=[SaveModelCallback(), \n",
        "                                     EarlyStoppingCallback(monitor='petfinder_rmse', \n",
        "                                                           comp=np.less, \n",
        "                                                           patience=2)])\n",
        "        \n",
        "        learn.recorder.plot_loss()\n",
        "        learn = learn.to_fp32()\n",
        "        learn.export(model_path)\n",
        "    \n",
        "    dls = ImageDataLoaders.from_df(train_df, \n",
        "                                   valid_pct=0.2, #80-20 train-validation random split\n",
        "                                   seed=SEED, \n",
        "                                   fn_col='path', #filename/path is in the second column of the DataFrame\n",
        "                                   label_col='norm_score', #label is in the first column of the DataFrame\n",
        "                                   y_block=RegressionBlock, #The type of target\n",
        "                                   bs=BATCH_SIZE, \n",
        "                                   num_workers=NUM_WORKERS,\n",
        "                                   item_tfms=Resize(IMAGE_SIZE), \n",
        "                                   batch_tfms=setup_aug_tfms(augmentation))  \n",
        "    \n",
        "    test_dl = dls.test_dl(test_df)\n",
        "    \n",
        "    preds, _ = learn.tta(dl=test_dl, n=5, beta=0)\n",
        "    \n",
        "    all_preds.append(preds)\n",
        "    \n",
        "    del learn\n",
        "    torch.cuda.empty_cache()\n",
        "    gc.collect()\n",
        "    print(\"*\"*79)"
      ],
      "id": "r0_-kubRru2r"
    },
    {
      "cell_type": "code",
      "execution_count": null,
      "metadata": {
        "id": "oUhzKOv_TurL"
      },
      "outputs": [],
      "source": [
        "learn = get_learner(fold_num=0)"
      ],
      "id": "oUhzKOv_TurL"
    },
    {
      "cell_type": "code",
      "execution_count": null,
      "metadata": {
        "id": "Vr2RPxUUkZKz"
      },
      "outputs": [],
      "source": [
        ""
      ],
      "id": "Vr2RPxUUkZKz"
    },
    {
      "cell_type": "markdown",
      "metadata": {
        "id": "pv-ZP5EOkOrU"
      },
      "source": [
        "# Save the model to GCS ($$$)\n",
        "1. Copy the model in google drive to google cloud storage using the below code\n",
        "2. Create dataset in kaggle. Load the models from GCS (much faster than uploading manually)\n",
        "3. In Kaggle notebook, add the dataset created in step 2\n",
        "4. Set USE_PRETRAINED variable to True and run the notebook. <- This will predict score based on the model trained in google colab"
      ],
      "id": "pv-ZP5EOkOrU"
    },
    {
      "cell_type": "code",
      "execution_count": null,
      "metadata": {
        "id": "khsgj5sFkVkd"
      },
      "outputs": [],
      "source": [
        "# from google.colab import auth\n",
        "# from googleapiclient.discovery import build\n",
        "# from googleapiclient.http import MediaFileUpload\n",
        "# import yaml\n",
        "\n",
        "# auth.authenticate_user()\n",
        "# gcs_service = build('storage', 'v1')\n",
        "\n",
        "# # Read gcs credential stored in yaml file\n",
        "# yaml_path = \"/content/drive/MyDrive/kaggle/pawpularity/gcs_secret.yaml\"\n",
        "# yaml_dict = yaml.load(open(yaml_path).read())\n",
        "# bucket_name = yaml_dict['bucket_name']\n",
        "# project_id = yaml_dict['project_id']"
      ],
      "id": "khsgj5sFkVkd"
    },
    {
      "cell_type": "code",
      "execution_count": null,
      "metadata": {
        "id": "RtAd9D0xrI1c"
      },
      "outputs": [],
      "source": [
        "# !zip \"/content/drive/MyDrive/kaggle/pawpularity/model.zip\" \"/content/drive/MyDrive/kaggle/pawpularity/model\""
      ],
      "id": "RtAd9D0xrI1c"
    },
    {
      "cell_type": "code",
      "execution_count": null,
      "metadata": {
        "id": "qZBsyeFXlT4c"
      },
      "outputs": [],
      "source": [
        "# %%time\n",
        "\n",
        "# for i in range(5):\n",
        "#     model_path = os.path.join(dataset_path, f'model/model_fold_{i}.pkl')\n",
        "\n",
        "#     print(f'saving model_fold_{i}.pkl in GCS ...')\n",
        "#     media = MediaFileUpload(model_path, \n",
        "#                             mimetype='application/octet-stream',\n",
        "#                             resumable=True)\n",
        "\n",
        "#     request = gcs_service.objects().insert(bucket=bucket_name, \n",
        "#                                             name=f'model_fold_{i}.pkl',\n",
        "#                                             media_body=media)\n",
        "\n",
        "#     response = None\n",
        "#     while response is None:\n",
        "#         # _ is a placeholder for a progress object that we ignore.\n",
        "#         # (Our file is small, so we skip reporting progress.)\n",
        "#         _, response = request.next_chunk()\n",
        "\n",
        "# print('Upload complete')\n",
        "# print('https://console.cloud.google.com/storage/browser?project={}'.format(project_id))"
      ],
      "id": "qZBsyeFXlT4c"
    },
    {
      "cell_type": "markdown",
      "metadata": {
        "id": "e4d0Q9Dfsc4N"
      },
      "source": [
        "# Create output"
      ],
      "id": "e4d0Q9Dfsc4N"
    },
    {
      "cell_type": "code",
      "execution_count": null,
      "metadata": {
        "id": "piUK6VRnK-ZK"
      },
      "outputs": [],
      "source": [
        "np.mean(np.stack(all_preds*100))"
      ],
      "id": "piUK6VRnK-ZK"
    },
    {
      "cell_type": "code",
      "execution_count": null,
      "metadata": {
        "id": "B_FWTYmaK_dp"
      },
      "outputs": [],
      "source": [
        "sample_df = pd.read_csv(dataset_path/'sample_submission.csv')\n",
        "preds = np.mean(np.stack(all_preds), axis=0)\n",
        "sample_df['Pawpularity'] = preds*100\n",
        "sample_df.to_csv('submission.csv',index=False)"
      ],
      "id": "B_FWTYmaK_dp"
    },
    {
      "cell_type": "code",
      "execution_count": null,
      "metadata": {
        "id": "PECWBIvvLBQf"
      },
      "outputs": [],
      "source": [
        "pd.read_csv('submission.csv').head()"
      ],
      "id": "PECWBIvvLBQf"
    }
  ],
  "metadata": {
    "accelerator": "GPU",
    "colab": {
      "collapsed_sections": [],
      "machine_shape": "hm",
      "name": "pawpularity_v3.ipynb",
      "provenance": [],
      "include_colab_link": true
    },
    "kernelspec": {
      "display_name": "Python 3",
      "language": "python",
      "name": "python3"
    },
    "language_info": {
      "codemirror_mode": {
        "name": "ipython",
        "version": 3
      },
      "file_extension": ".py",
      "mimetype": "text/x-python",
      "name": "python",
      "nbconvert_exporter": "python",
      "pygments_lexer": "ipython3",
      "version": "3.7.10"
    },
    "papermill": {
      "default_parameters": {},
      "duration": 7922.321986,
      "end_time": "2021-12-13T02:11:09.817849",
      "environment_variables": {},
      "exception": null,
      "input_path": "__notebook__.ipynb",
      "output_path": "__notebook__.ipynb",
      "parameters": {},
      "start_time": "2021-12-12T23:59:07.495863",
      "version": "2.3.3"
    }
  },
  "nbformat": 4,
  "nbformat_minor": 5
}